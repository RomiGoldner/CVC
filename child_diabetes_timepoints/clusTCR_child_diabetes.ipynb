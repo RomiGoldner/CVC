{
 "cells": [
  {
   "cell_type": "markdown",
   "id": "300a37f5",
   "metadata": {
    "cell_id": "dfcb45a2-e13b-432d-885a-42bb3dd563a3",
    "deepnote_cell_height": 74.796875,
    "deepnote_cell_type": "markdown"
   },
   "source": [
    "#### Diabetes in Embedding Space\n",
    "\n",
    "Plan - strt by looking at one sick, one healthy patients. Use pandas to join between the seperate files."
   ]
  },
  {
   "cell_type": "code",
   "execution_count": 2,
   "id": "a6b24f51",
   "metadata": {
    "cell_id": "5d9c47c0-6d9e-482d-b141-b891da650664",
    "deepnote_cell_height": 190.1875,
    "deepnote_cell_type": "code",
    "deepnote_output_heights": [
     21.1875
    ],
    "deepnote_to_be_reexecuted": false,
    "execution_millis": 12,
    "execution_start": 1645287525442,
    "source_hash": "371d1002",
    "tags": []
   },
   "outputs": [
    {
     "name": "stdout",
     "output_type": "stream",
     "text": [
      "/home/dsi/rgoldner/projects/cvc\n"
     ]
    }
   ],
   "source": [
    "cd .."
   ]
  },
  {
   "cell_type": "code",
   "execution_count": 3,
   "id": "da7a5597-a0ae-4aa7-bcb4-62d219a76df2",
   "metadata": {},
   "outputs": [],
   "source": [
    "%load_ext autoreload\n",
    "%autoreload 2"
   ]
  },
  {
   "cell_type": "code",
   "execution_count": 4,
   "outputs": [
    {
     "name": "stderr",
     "output_type": "stream",
     "text": [
      "WARNING:matplotlib.font_manager:Matplotlib is building the font cache; this may take a moment.\n",
      "INFO:matplotlib.font_manager:Failed to extract font properties from /usr/share/fonts/google-noto-emoji/NotoColorEmoji.ttf: In FT2Font: Could not set the fontsize (error code 0x17)\n"
     ]
    },
    {
     "data": {
      "text/plain": "'plots/CDR3_data_plots'"
     },
     "execution_count": 4,
     "metadata": {},
     "output_type": "execute_result"
    }
   ],
   "source": [
    "import os, sys\n",
    "import collections\n",
    "import importlib\n",
    "import matplotlib\n",
    "import numpy as np\n",
    "import pandas as pd\n",
    "from matplotlib import pyplot as plt\n",
    "from matplotlib.colors import ListedColormap\n",
    "import seaborn as sns\n",
    "\n",
    "import anndata as ad\n",
    "import scanpy as sc\n",
    "\n",
    "SRC_DIR = \"cvc\"\n",
    "# assert os.path.isdir(SRC_DIR), f\"Cannot find src dir: {SRC_DIR}\"\n",
    "# sys.path.append(SRC_DIR)\n",
    "\n",
    "from cvc import model_utils\n",
    "from cvc import plot_utils\n",
    "from child_diabetes_timepoints import diabetes_utils as du\n",
    "from cvc import embbeding_wrapper as ew\n",
    "from child_diabetes_timepoints import graph_utils as gu\n",
    "from cvc import utils\n",
    "from lab_notebooks.utils import TRANSFORMER, DEVICE, DATA_DIR\n",
    "MODEL_DIR = os.path.join(SRC_DIR, \"models\")\n",
    "sys.path.append(MODEL_DIR)\n",
    "\n",
    "FILT_EDIT_DIST = True\n",
    "\n",
    "PLOT_DIR = os.path.join(os.path.dirname(SRC_DIR), \"plots/CDR3_data_plots\")\n",
    "if not os.path.isdir(PLOT_DIR):\n",
    "    os.makedirs(PLOT_DIR)\n",
    "PLOT_DIR"
   ],
   "metadata": {
    "collapsed": false
   }
  },
  {
   "cell_type": "markdown",
   "source": [
    "#### Load and Process data"
   ],
   "metadata": {
    "collapsed": false
   }
  },
  {
   "cell_type": "code",
   "execution_count": 5,
   "outputs": [],
   "source": [
    "DATA_FOLDER_DIR = \"/dsi/scratch/home/dsi/romiDiabetes/\"\n",
    "\n",
    "# combine files according to control/case metadata\n",
    "case_samples_dir = DATA_FOLDER_DIR + \"case_samples.csv\"\n",
    "control_samples_dir = DATA_FOLDER_DIR + \"control_samples.csv\""
   ],
   "metadata": {
    "collapsed": false
   }
  },
  {
   "cell_type": "code",
   "execution_count": 6,
   "outputs": [
    {
     "name": "stderr",
     "output_type": "stream",
     "text": [
      "/home/dsi/rgoldner/anaconda3/envs/tcrbert/lib/python3.9/site-packages/IPython/core/interactiveshell.py:3191: DtypeWarning: Columns (0,7,8) have mixed types.Specify dtype option on import or set low_memory=False.\n",
      "  if await self.run_code(code, result, async_=asy):\n",
      "/home/dsi/rgoldner/projects/cvc/child_diabetes_timepoints/diabetes_utils.py:10: FutureWarning: The default value of regex will change from True to False in a future version.\n",
      "  samples['Adaptive ID'] = samples['Adaptive ID'].astype(str).str.replace('\\.0', '')\n",
      "/home/dsi/rgoldner/projects/cvc/child_diabetes_timepoints/diabetes_utils.py:10: FutureWarning: The default value of regex will change from True to False in a future version.\n",
      "  samples['Adaptive ID'] = samples['Adaptive ID'].astype(str).str.replace('\\.0', '')\n"
     ]
    }
   ],
   "source": [
    "# Process metadata\n",
    "case_samples = du.process_diabetes_metadata(case_samples_dir)\n",
    "control_samples = du.process_diabetes_metadata(control_samples_dir)"
   ],
   "metadata": {
    "collapsed": false
   }
  },
  {
   "cell_type": "code",
   "execution_count": 7,
   "outputs": [
    {
     "name": "stderr",
     "output_type": "stream",
     "text": [
      "/home/dsi/rgoldner/anaconda3/envs/tcrbert/lib/python3.9/site-packages/IPython/core/interactiveshell.py:3191: DtypeWarning: Columns (62) have mixed types.Specify dtype option on import or set low_memory=False.\n",
      "  if await self.run_code(code, result, async_=asy):\n",
      "/home/dsi/rgoldner/anaconda3/envs/tcrbert/lib/python3.9/site-packages/IPython/core/interactiveshell.py:3191: DtypeWarning: Columns (62) have mixed types.Specify dtype option on import or set low_memory=False.\n",
      "  if await self.run_code(code, result, async_=asy):\n",
      "/home/dsi/rgoldner/anaconda3/envs/tcrbert/lib/python3.9/site-packages/IPython/core/interactiveshell.py:3191: DtypeWarning: Columns (62) have mixed types.Specify dtype option on import or set low_memory=False.\n",
      "  if await self.run_code(code, result, async_=asy):\n",
      "/home/dsi/rgoldner/anaconda3/envs/tcrbert/lib/python3.9/site-packages/IPython/core/interactiveshell.py:3191: DtypeWarning: Columns (62) have mixed types.Specify dtype option on import or set low_memory=False.\n",
      "  if await self.run_code(code, result, async_=asy):\n",
      "/home/dsi/rgoldner/anaconda3/envs/tcrbert/lib/python3.9/site-packages/IPython/core/interactiveshell.py:3191: DtypeWarning: Columns (62) have mixed types.Specify dtype option on import or set low_memory=False.\n",
      "  if await self.run_code(code, result, async_=asy):\n",
      "/home/dsi/rgoldner/anaconda3/envs/tcrbert/lib/python3.9/site-packages/IPython/core/interactiveshell.py:3191: DtypeWarning: Columns (62) have mixed types.Specify dtype option on import or set low_memory=False.\n",
      "  if await self.run_code(code, result, async_=asy):\n",
      "/home/dsi/rgoldner/anaconda3/envs/tcrbert/lib/python3.9/site-packages/IPython/core/interactiveshell.py:3191: DtypeWarning: Columns (62) have mixed types.Specify dtype option on import or set low_memory=False.\n",
      "  if await self.run_code(code, result, async_=asy):\n",
      "/home/dsi/rgoldner/anaconda3/envs/tcrbert/lib/python3.9/site-packages/IPython/core/interactiveshell.py:3191: DtypeWarning: Columns (62) have mixed types.Specify dtype option on import or set low_memory=False.\n",
      "  if await self.run_code(code, result, async_=asy):\n"
     ]
    }
   ],
   "source": [
    "# Join data for each patient\n",
    "cases_dataframes_dict = du.join_data(case_samples[:3], DATA_FOLDER_DIR)\n",
    "control_dataframes_dict = du.join_data(control_samples[:3], DATA_FOLDER_DIR)"
   ],
   "metadata": {
    "collapsed": false
   }
  },
  {
   "cell_type": "code",
   "execution_count": 8,
   "outputs": [
    {
     "name": "stderr",
     "output_type": "stream",
     "text": [
      "100%|██████████| 3/3 [04:21<00:00, 87.03s/it] \n",
      "100%|██████████| 3/3 [04:32<00:00, 90.83s/it]\n"
     ]
    }
   ],
   "source": [
    "from tqdm import tqdm\n",
    "# apply the parse_tags function to all dataframes that divides the sample_catalog_tags column into multiple columns\n",
    "def apply_parse_tags(cases_dataframes_dict):\n",
    "    for patient_id in tqdm(cases_dataframes_dict.keys()):\n",
    "        dataframes_list = cases_dataframes_dict[patient_id]\n",
    "        for i, df in enumerate(dataframes_list):\n",
    "            dataframes_list[i] = df.join(df['sample_catalog_tags'].apply(du.parse_tags))\n",
    "            # change cdr3_amino_acid column name to Sequences\n",
    "            dataframes_list[i].rename(columns={'cdr3_amino_acid': 'Sequences'}, inplace=True)\n",
    "            # change j_gene column to be all strings\n",
    "            dataframes_list[i]['j_gene'] = dataframes_list[i]['j_gene'].astype(str)\n",
    "    return cases_dataframes_dict\n",
    "\n",
    "cases_dataframes_dict = apply_parse_tags(cases_dataframes_dict)\n",
    "control_dataframes_dict = apply_parse_tags(control_dataframes_dict)"
   ],
   "metadata": {
    "collapsed": false
   }
  },
  {
   "cell_type": "markdown",
   "source": [
    "#### Create and Display embeddings"
   ],
   "metadata": {
    "collapsed": false
   }
  },
  {
   "cell_type": "markdown",
   "source": [
    "##### Create embeddings for one patient"
   ],
   "metadata": {
    "collapsed": false
   }
  },
  {
   "cell_type": "code",
   "execution_count": 9,
   "outputs": [
    {
     "data": {
      "text/plain": "0           CASSLESAGWGETQYF\n1              CASSPQGELGQYF\n2               CASSLDFGDQYF\n3         CASSLASRAGGGTDTQYF\n4           CASSFPGLAMRDTQYF\n                 ...        \n104505       CASSTRQGVNTEAFF\n104506     CASSYSKGGNYNSPLHF\n104507        CASSLAGSKYGYTF\n104510         CSARERGLETQYF\n104511       CASSLRQVGNSPLHF\nName: Sequences, Length: 82716, dtype: object"
     },
     "execution_count": 9,
     "metadata": {},
     "output_type": "execute_result"
    }
   ],
   "source": [
    "cases_dataframes_dict[0][0].Sequences"
   ],
   "metadata": {
    "collapsed": false
   }
  },
  {
   "cell_type": "code",
   "execution_count": 10,
   "outputs": [
    {
     "data": {
      "text/plain": "[       sample_name locus                                sample_catalog_tags  \\\n 0      310101_TCRB  TCRB  Age:02 Years,Biological Sex:Female,Ethnic Grou...   \n 1      310101_TCRB  TCRB  Age:02 Years,Biological Sex:Female,Ethnic Grou...   \n 2      310101_TCRB  TCRB  Age:02 Years,Biological Sex:Female,Ethnic Grou...   \n 3      310101_TCRB  TCRB  Age:02 Years,Biological Sex:Female,Ethnic Grou...   \n 4      310101_TCRB  TCRB  Age:02 Years,Biological Sex:Female,Ethnic Grou...   \n ...            ...   ...                                                ...   \n 18798  310101_TCRB  TCRB  Age:02 Years,Biological Sex:Female,Ethnic Grou...   \n 18799  310101_TCRB  TCRB  Age:02 Years,Biological Sex:Female,Ethnic Grou...   \n 18800  310101_TCRB  TCRB  Age:02 Years,Biological Sex:Female,Ethnic Grou...   \n 18801  310101_TCRB  TCRB  Age:02 Years,Biological Sex:Female,Ethnic Grou...   \n 18802  310101_TCRB  TCRB  Age:02 Years,Biological Sex:Female,Ethnic Grou...   \n \n                                              sample_tags v_family      v_gene  \\\n 0      Age at visit:3 Years at visit,Age:02 Years,Bio...  TCRBV05  TCRBV05-05   \n 1      Age at visit:3 Years at visit,Age:02 Years,Bio...  TCRBV05  TCRBV05-05   \n 2      Age at visit:3 Years at visit,Age:02 Years,Bio...  TCRBV05  TCRBV05-05   \n 3      Age at visit:3 Years at visit,Age:02 Years,Bio...  TCRBV05  TCRBV05-05   \n 4      Age at visit:3 Years at visit,Age:02 Years,Bio...  TCRBV05  TCRBV05-05   \n ...                                                  ...      ...         ...   \n 18798  Age at visit:3 Years at visit,Age:02 Years,Bio...  TCRBV14  TCRBV14-01   \n 18799  Age at visit:3 Years at visit,Age:02 Years,Bio...  TCRBV14  TCRBV14-01   \n 18800  Age at visit:3 Years at visit,Age:02 Years,Bio...  TCRBV14  TCRBV14-01   \n 18801  Age at visit:3 Years at visit,Age:02 Years,Bio...  TCRBV14  TCRBV14-01   \n 18802  Age at visit:3 Years at visit,Age:02 Years,Bio...  TCRBV14  TCRBV14-01   \n \n       j_family      j_gene                              bio_identity  \\\n 0      TCRBJ01  TCRBJ01-01      CASSLAVSLDRPFF+TCRBV05-05+TCRBJ01-01   \n 1      TCRBJ01  TCRBJ01-02      CASS*GQ*LERYTF+TCRBV05-05+TCRBJ01-02   \n 2      TCRBJ01  TCRBJ01-02     CASSYGQGMNYGYTF+TCRBV05-05+TCRBJ01-02   \n 3      TCRBJ02  TCRBJ02-07     CASSPPWTFPYEQYF+TCRBV05-05+TCRBJ02-07   \n 4      TCRBJ02  TCRBJ02-05     CASSPDRERWETQYF+TCRBV05-05+TCRBJ02-05   \n ...        ...         ...                                       ...   \n 18798  TCRBJ01  TCRBJ01-06  CASSQDGQGGAYNSPLHF+TCRBV14-01+TCRBJ01-06   \n 18799  TCRBJ02  TCRBJ02-07    CASSQGPVISLYEQYF+TCRBV14-01+TCRBJ02-07   \n 18800  TCRBJ01  TCRBJ01-05  CASSLRDRFPYSNQPQHF+TCRBV14-01+TCRBJ01-05   \n 18801  TCRBJ01  TCRBJ01-06     CASSQDVPGHRSLHF+TCRBV14-01+TCRBJ01-06   \n 18802  TCRBJ01  TCRBJ01-05      CASSPGTDDQPQHF+TCRBV14-01+TCRBJ01-05   \n \n                 Sequences  Patient ID       Age Biological Sex  \\\n 0          CASSLAVSLDRPFF           0  02 Years         Female   \n 1          CASS*GQ*LERYTF           0  02 Years         Female   \n 2         CASSYGQGMNYGYTF           0  02 Years         Female   \n 3         CASSPPWTFPYEQYF           0  02 Years         Female   \n 4         CASSPDRERWETQYF           0  02 Years         Female   \n ...                   ...         ...       ...            ...   \n 18798  CASSQDGQGGAYNSPLHF           0  02 Years         Female   \n 18799    CASSQGPVISLYEQYF           0  02 Years         Female   \n 18800  CASSLRDRFPYSNQPQHF           0  02 Years         Female   \n 18801     CASSQDVPGHRSLHF           0  02 Years         Female   \n 18802      CASSPGTDDQPQHF           0  02 Years         Female   \n \n                  Ethnic Group HLA MHC class I HLA MHC class II Racial Group  \\\n 0      Non-Hispanic or Latino      HLA-C*0401    HLA-DRB1*1301    Caucasian   \n 1      Non-Hispanic or Latino      HLA-C*0401    HLA-DRB1*1301    Caucasian   \n 2      Non-Hispanic or Latino      HLA-C*0401    HLA-DRB1*1301    Caucasian   \n 3      Non-Hispanic or Latino      HLA-C*0401    HLA-DRB1*1301    Caucasian   \n 4      Non-Hispanic or Latino      HLA-C*0401    HLA-DRB1*1301    Caucasian   \n ...                       ...             ...              ...          ...   \n 18798  Non-Hispanic or Latino      HLA-C*0401    HLA-DRB1*1301    Caucasian   \n 18799  Non-Hispanic or Latino      HLA-C*0401    HLA-DRB1*1301    Caucasian   \n 18800  Non-Hispanic or Latino      HLA-C*0401    HLA-DRB1*1301    Caucasian   \n 18801  Non-Hispanic or Latino      HLA-C*0401    HLA-DRB1*1301    Caucasian   \n 18802  Non-Hispanic or Latino      HLA-C*0401    HLA-DRB1*1301    Caucasian   \n \n        Subject  \n 0      Control  \n 1      Control  \n 2      Control  \n 3      Control  \n 4      Control  \n ...        ...  \n 18798  Control  \n 18799  Control  \n 18800  Control  \n 18801  Control  \n 18802  Control  \n \n [15255 rows x 18 columns],\n        sample_name locus                                sample_catalog_tags  \\\n 0      310103_TCRB  TCRB  Age:03 Years,Biological Sex:Female,Ethnic Grou...   \n 1      310103_TCRB  TCRB  Age:03 Years,Biological Sex:Female,Ethnic Grou...   \n 2      310103_TCRB  TCRB  Age:03 Years,Biological Sex:Female,Ethnic Grou...   \n 3      310103_TCRB  TCRB  Age:03 Years,Biological Sex:Female,Ethnic Grou...   \n 5      310103_TCRB  TCRB  Age:03 Years,Biological Sex:Female,Ethnic Grou...   \n ...            ...   ...                                                ...   \n 86881  310103_TCRB  TCRB  Age:03 Years,Biological Sex:Female,Ethnic Grou...   \n 86882  310103_TCRB  TCRB  Age:03 Years,Biological Sex:Female,Ethnic Grou...   \n 86883  310103_TCRB  TCRB  Age:03 Years,Biological Sex:Female,Ethnic Grou...   \n 86884  310103_TCRB  TCRB  Age:03 Years,Biological Sex:Female,Ethnic Grou...   \n 86885  310103_TCRB  TCRB  Age:03 Years,Biological Sex:Female,Ethnic Grou...   \n \n                                              sample_tags v_family      v_gene  \\\n 0      Age at visit:3 Years at visit,Age:03 Years,Bio...  TCRBV05  TCRBV05-05   \n 1      Age at visit:3 Years at visit,Age:03 Years,Bio...  TCRBV05  TCRBV05-05   \n 2      Age at visit:3 Years at visit,Age:03 Years,Bio...  TCRBV05  TCRBV05-05   \n 3      Age at visit:3 Years at visit,Age:03 Years,Bio...  TCRBV05  TCRBV05-05   \n 5      Age at visit:3 Years at visit,Age:03 Years,Bio...  TCRBV05  TCRBV05-05   \n ...                                                  ...      ...         ...   \n 86881  Age at visit:3 Years at visit,Age:03 Years,Bio...  TCRBV07         NaN   \n 86882  Age at visit:3 Years at visit,Age:03 Years,Bio...  TCRBV12         NaN   \n 86883  Age at visit:3 Years at visit,Age:03 Years,Bio...  TCRBV20         NaN   \n 86884  Age at visit:3 Years at visit,Age:03 Years,Bio...  TCRBV12         NaN   \n 86885  Age at visit:3 Years at visit,Age:03 Years,Bio...  TCRBV12         NaN   \n \n       j_family      j_gene                          bio_identity  \\\n 0      TCRBJ01  TCRBJ01-02    CASSQTDYGYTF+TCRBV05-05+TCRBJ01-02   \n 1      TCRBJ01  TCRBJ01-04  CASSFRQRNEKLFF+TCRBV05-05+TCRBJ01-04   \n 2      TCRBJ02  TCRBJ02-07  CASSLVMTVYEQYF+TCRBV05-05+TCRBJ02-07   \n 3      TCRBJ01  TCRBJ01-01  CASSSGQLNTEAFF+TCRBV05-05+TCRBJ01-01   \n 5      TCRBJ02  TCRBJ02-07  CASSRPGQGYEQYF+TCRBV05-05+TCRBJ02-07   \n ...        ...         ...                                   ...   \n 86881  TCRBJ01  TCRBJ01-02  CASSRSGRDWSSYTF+TCRBV07-X+TCRBJ01-02   \n 86882  TCRBJ01  TCRBJ01-01  CASSPTGGMNTEAFF+TCRBV12-X+TCRBJ01-01   \n 86883  TCRBJ01  TCRBJ01-06   CSARLQGSNSPLHF+TCRBV20-X+TCRBJ01-06   \n 86884  TCRBJ01  TCRBJ01-02  CASSPLSGVNYGYTF+TCRBV12-X+TCRBJ01-02   \n 86885  TCRBJ01  TCRBJ01-05  CASSPGLSSRKPQHF+TCRBV12-X+TCRBJ01-05   \n \n              Sequences  Patient ID       Age Biological Sex  \\\n 0         CASSQTDYGYTF           0  03 Years         Female   \n 1       CASSFRQRNEKLFF           0  03 Years         Female   \n 2       CASSLVMTVYEQYF           0  03 Years         Female   \n 3       CASSSGQLNTEAFF           0  03 Years         Female   \n 5       CASSRPGQGYEQYF           0  03 Years         Female   \n ...                ...         ...       ...            ...   \n 86881  CASSRSGRDWSSYTF           0  03 Years         Female   \n 86882  CASSPTGGMNTEAFF           0  03 Years         Female   \n 86883   CSARLQGSNSPLHF           0  03 Years         Female   \n 86884  CASSPLSGVNYGYTF           0  03 Years         Female   \n 86885  CASSPGLSSRKPQHF           0  03 Years         Female   \n \n                  Ethnic Group HLA MHC class I HLA MHC class II Racial Group  \\\n 0      Non-Hispanic or Latino      HLA-C*0401    HLA-DRB1*1301    Caucasian   \n 1      Non-Hispanic or Latino      HLA-C*0401    HLA-DRB1*1301    Caucasian   \n 2      Non-Hispanic or Latino      HLA-C*0401    HLA-DRB1*1301    Caucasian   \n 3      Non-Hispanic or Latino      HLA-C*0401    HLA-DRB1*1301    Caucasian   \n 5      Non-Hispanic or Latino      HLA-C*0401    HLA-DRB1*1301    Caucasian   \n ...                       ...             ...              ...          ...   \n 86881  Non-Hispanic or Latino      HLA-C*0401    HLA-DRB1*1301    Caucasian   \n 86882  Non-Hispanic or Latino      HLA-C*0401    HLA-DRB1*1301    Caucasian   \n 86883  Non-Hispanic or Latino      HLA-C*0401    HLA-DRB1*1301    Caucasian   \n 86884  Non-Hispanic or Latino      HLA-C*0401    HLA-DRB1*1301    Caucasian   \n 86885  Non-Hispanic or Latino      HLA-C*0401    HLA-DRB1*1301    Caucasian   \n \n        Subject  \n 0      Control  \n 1      Control  \n 2      Control  \n 3      Control  \n 5      Control  \n ...        ...  \n 86881  Control  \n 86882  Control  \n 86883  Control  \n 86884  Control  \n 86885  Control  \n \n [70350 rows x 18 columns],\n         sample_name locus                                sample_catalog_tags  \\\n 0       310216_TCRB  TCRB  Age:08 Years,Biological Sex:Female,Ethnic Grou...   \n 1       310216_TCRB  TCRB  Age:08 Years,Biological Sex:Female,Ethnic Grou...   \n 4       310216_TCRB  TCRB  Age:08 Years,Biological Sex:Female,Ethnic Grou...   \n 5       310216_TCRB  TCRB  Age:08 Years,Biological Sex:Female,Ethnic Grou...   \n 7       310216_TCRB  TCRB  Age:08 Years,Biological Sex:Female,Ethnic Grou...   \n ...             ...   ...                                                ...   \n 159267  310216_TCRB  TCRB  Age:08 Years,Biological Sex:Female,Ethnic Grou...   \n 159268  310216_TCRB  TCRB  Age:08 Years,Biological Sex:Female,Ethnic Grou...   \n 159269  310216_TCRB  TCRB  Age:08 Years,Biological Sex:Female,Ethnic Grou...   \n 159270  310216_TCRB  TCRB  Age:08 Years,Biological Sex:Female,Ethnic Grou...   \n 159271  310216_TCRB  TCRB  Age:08 Years,Biological Sex:Female,Ethnic Grou...   \n \n                                               sample_tags v_family  \\\n 0       Age at visit:8 Years at visit,Age:08 Years,Bio...  TCRBV07   \n 1       Age at visit:8 Years at visit,Age:08 Years,Bio...  TCRBV07   \n 4       Age at visit:8 Years at visit,Age:08 Years,Bio...  TCRBV07   \n 5       Age at visit:8 Years at visit,Age:08 Years,Bio...  TCRBV07   \n 7       Age at visit:8 Years at visit,Age:08 Years,Bio...  TCRBV07   \n ...                                                   ...      ...   \n 159267  Age at visit:8 Years at visit,Age:08 Years,Bio...  TCRBV12   \n 159268  Age at visit:8 Years at visit,Age:08 Years,Bio...  TCRBV20   \n 159269  Age at visit:8 Years at visit,Age:08 Years,Bio...  TCRBV12   \n 159270  Age at visit:8 Years at visit,Age:08 Years,Bio...  TCRBV20   \n 159271  Age at visit:8 Years at visit,Age:08 Years,Bio...  TCRBV20   \n \n             v_gene j_family      j_gene  \\\n 0       TCRBV07-07  TCRBJ02  TCRBJ02-05   \n 1       TCRBV07-07  TCRBJ02  TCRBJ02-05   \n 4       TCRBV07-07  TCRBJ02  TCRBJ02-01   \n 5       TCRBV07-07  TCRBJ02  TCRBJ02-02   \n 7       TCRBV07-07  TCRBJ02  TCRBJ02-03   \n ...            ...      ...         ...   \n 159267         NaN  TCRBJ02  TCRBJ02-03   \n 159268         NaN  TCRBJ02  TCRBJ02-07   \n 159269         NaN  TCRBJ01  TCRBJ01-02   \n 159270         NaN  TCRBJ01  TCRBJ01-05   \n 159271         NaN  TCRBJ01  TCRBJ01-03   \n \n                                       bio_identity             Sequences  \\\n 0           CASSPGVGSVRETQYF+TCRBV07-07+TCRBJ02-05      CASSPGVGSVRETQYF   \n 1            CASSLGTGLRETQYF+TCRBV07-07+TCRBJ02-05       CASSLGTGLRETQYF   \n 4       CASSLALAGTSGSGYNEQFF+TCRBV07-07+TCRBJ02-01  CASSLALAGTSGSGYNEQFF   \n 5           CASSRIGQGATGELFF+TCRBV07-07+TCRBJ02-02      CASSRIGQGATGELFF   \n 7          CASSSSSVPGGTDTQYF+TCRBV07-07+TCRBJ02-03     CASSSSSVPGGTDTQYF   \n ...                                            ...                   ...   \n 159267        CASRAIAAYTDTQYF+TCRBV12-X+TCRBJ02-03       CASRAIAAYTDTQYF   \n 159268      CSARDGGGTGSGYEQYF+TCRBV20-X+TCRBJ02-07     CSARDGGGTGSGYEQYF   \n 159269         CASSPDSVNYGYTF+TCRBV12-X+TCRBJ01-02        CASSPDSVNYGYTF   \n 159270           CSASTVNQPQHF+TCRBV20-X+TCRBJ01-05          CSASTVNQPQHF   \n 159271        CSARDLLPSGNTIYF+TCRBV20-X+TCRBJ01-03       CSARDLLPSGNTIYF   \n \n         Patient ID       Age Biological Sex            Ethnic Group  \\\n 0                0  08 Years         Female  Non-Hispanic or Latino   \n 1                0  08 Years         Female  Non-Hispanic or Latino   \n 4                0  08 Years         Female  Non-Hispanic or Latino   \n 5                0  08 Years         Female  Non-Hispanic or Latino   \n 7                0  08 Years         Female  Non-Hispanic or Latino   \n ...            ...       ...            ...                     ...   \n 159267           0  08 Years         Female  Non-Hispanic or Latino   \n 159268           0  08 Years         Female  Non-Hispanic or Latino   \n 159269           0  08 Years         Female  Non-Hispanic or Latino   \n 159270           0  08 Years         Female  Non-Hispanic or Latino   \n 159271           0  08 Years         Female  Non-Hispanic or Latino   \n \n        HLA MHC class I HLA MHC class II Racial Group  Subject  \n 0           HLA-C*0401    HLA-DRB1*1301    Caucasian  Control  \n 1           HLA-C*0401    HLA-DRB1*1301    Caucasian  Control  \n 4           HLA-C*0401    HLA-DRB1*1301    Caucasian  Control  \n 5           HLA-C*0401    HLA-DRB1*1301    Caucasian  Control  \n 7           HLA-C*0401    HLA-DRB1*1301    Caucasian  Control  \n ...                ...              ...          ...      ...  \n 159267      HLA-C*0401    HLA-DRB1*1301    Caucasian  Control  \n 159268      HLA-C*0401    HLA-DRB1*1301    Caucasian  Control  \n 159269      HLA-C*0401    HLA-DRB1*1301    Caucasian  Control  \n 159270      HLA-C*0401    HLA-DRB1*1301    Caucasian  Control  \n 159271      HLA-C*0401    HLA-DRB1*1301    Caucasian  Control  \n \n [128625 rows x 18 columns],\n         sample_name locus                                sample_catalog_tags  \\\n 0       310146_TCRB  TCRB  Age:12 Years,Biological Sex:Female,Ethnic Grou...   \n 1       310146_TCRB  TCRB  Age:12 Years,Biological Sex:Female,Ethnic Grou...   \n 2       310146_TCRB  TCRB  Age:12 Years,Biological Sex:Female,Ethnic Grou...   \n 3       310146_TCRB  TCRB  Age:12 Years,Biological Sex:Female,Ethnic Grou...   \n 5       310146_TCRB  TCRB  Age:12 Years,Biological Sex:Female,Ethnic Grou...   \n ...             ...   ...                                                ...   \n 109014  310146_TCRB  TCRB  Age:12 Years,Biological Sex:Female,Ethnic Grou...   \n 109015  310146_TCRB  TCRB  Age:12 Years,Biological Sex:Female,Ethnic Grou...   \n 109017  310146_TCRB  TCRB  Age:12 Years,Biological Sex:Female,Ethnic Grou...   \n 109018  310146_TCRB  TCRB  Age:12 Years,Biological Sex:Female,Ethnic Grou...   \n 109019  310146_TCRB  TCRB  Age:12 Years,Biological Sex:Female,Ethnic Grou...   \n \n                                               sample_tags v_family  \\\n 0       Age at visit:12 Years at visit,Age:12 Years,Bi...  TCRBV05   \n 1       Age at visit:12 Years at visit,Age:12 Years,Bi...  TCRBV05   \n 2       Age at visit:12 Years at visit,Age:12 Years,Bi...  TCRBV05   \n 3       Age at visit:12 Years at visit,Age:12 Years,Bi...  TCRBV05   \n 5       Age at visit:12 Years at visit,Age:12 Years,Bi...  TCRBV05   \n ...                                                   ...      ...   \n 109014  Age at visit:12 Years at visit,Age:12 Years,Bi...  TCRBV12   \n 109015  Age at visit:12 Years at visit,Age:12 Years,Bi...  TCRBV12   \n 109017  Age at visit:12 Years at visit,Age:12 Years,Bi...  TCRBV12   \n 109018  Age at visit:12 Years at visit,Age:12 Years,Bi...  TCRBV12   \n 109019  Age at visit:12 Years at visit,Age:12 Years,Bi...  TCRBV12   \n \n             v_gene j_family      j_gene  \\\n 0       TCRBV05-05  TCRBJ02  TCRBJ02-01   \n 1       TCRBV05-05  TCRBJ02  TCRBJ02-07   \n 2       TCRBV05-05  TCRBJ01  TCRBJ01-01   \n 3       TCRBV05-05  TCRBJ02  TCRBJ02-05   \n 5       TCRBV05-05  TCRBJ02  TCRBJ02-07   \n ...            ...      ...         ...   \n 109014         NaN  TCRBJ01  TCRBJ01-02   \n 109015         NaN  TCRBJ02  TCRBJ02-02   \n 109017         NaN  TCRBJ02  TCRBJ02-07   \n 109018         NaN  TCRBJ01  TCRBJ01-06   \n 109019         NaN  TCRBJ02  TCRBJ02-07   \n \n                                    bio_identity           Sequences  \\\n 0         CASSLGLAVYNEQFF+TCRBV05-05+TCRBJ02-01     CASSLGLAVYNEQFF   \n 1          CASSLGGSYYEQYF+TCRBV05-05+TCRBJ02-07      CASSLGGSYYEQYF   \n 2       CASSLLILTAMNTEAFF+TCRBV05-05+TCRBJ01-01   CASSLLILTAMNTEAFF   \n 3         CASSLEGARQETQYF+TCRBV05-05+TCRBJ02-05     CASSLEGARQETQYF   \n 5        CASSLGMYQTAGEQYF+TCRBV05-05+TCRBJ02-07    CASSLGMYQTAGEQYF   \n ...                                         ...                 ...   \n 109014      CASSLRGTNYGYTF+TCRBV12-X+TCRBJ01-02      CASSLRGTNYGYTF   \n 109015      CASNPEGHAGELFF+TCRBV12-X+TCRBJ02-02      CASNPEGHAGELFF   \n 109017     CASRWTSGISYEQYF+TCRBV12-X+TCRBJ02-07     CASRWTSGISYEQYF   \n 109018  CASS*GTGD*LDNSPLHF+TCRBV12-X+TCRBJ01-06  CASS*GTGD*LDNSPLHF   \n 109019      CASSLSTAVDEQYF+TCRBV12-X+TCRBJ02-07      CASSLSTAVDEQYF   \n \n         Patient ID       Age Biological Sex            Ethnic Group  \\\n 0                0  12 Years         Female  Non-Hispanic or Latino   \n 1                0  12 Years         Female  Non-Hispanic or Latino   \n 2                0  12 Years         Female  Non-Hispanic or Latino   \n 3                0  12 Years         Female  Non-Hispanic or Latino   \n 5                0  12 Years         Female  Non-Hispanic or Latino   \n ...            ...       ...            ...                     ...   \n 109014           0  12 Years         Female  Non-Hispanic or Latino   \n 109015           0  12 Years         Female  Non-Hispanic or Latino   \n 109017           0  12 Years         Female  Non-Hispanic or Latino   \n 109018           0  12 Years         Female  Non-Hispanic or Latino   \n 109019           0  12 Years         Female  Non-Hispanic or Latino   \n \n        HLA MHC class I HLA MHC class II Racial Group  Subject  \n 0           HLA-C*0401    HLA-DRB1*1301    Caucasian  Control  \n 1           HLA-C*0401    HLA-DRB1*1301    Caucasian  Control  \n 2           HLA-C*0401    HLA-DRB1*1301    Caucasian  Control  \n 3           HLA-C*0401    HLA-DRB1*1301    Caucasian  Control  \n 5           HLA-C*0401    HLA-DRB1*1301    Caucasian  Control  \n ...                ...              ...          ...      ...  \n 109014      HLA-C*0401    HLA-DRB1*1301    Caucasian  Control  \n 109015      HLA-C*0401    HLA-DRB1*1301    Caucasian  Control  \n 109017      HLA-C*0401    HLA-DRB1*1301    Caucasian  Control  \n 109018      HLA-C*0401    HLA-DRB1*1301    Caucasian  Control  \n 109019      HLA-C*0401    HLA-DRB1*1301    Caucasian  Control  \n \n [88604 rows x 18 columns]]"
     },
     "execution_count": 10,
     "metadata": {},
     "output_type": "execute_result"
    }
   ],
   "source": [
    "control_dataframes_dict[0]"
   ],
   "metadata": {
    "collapsed": false
   }
  },
  {
   "cell_type": "markdown",
   "source": [
    "#### ClusTCR"
   ],
   "metadata": {
    "collapsed": false
   }
  },
  {
   "cell_type": "code",
   "execution_count": null,
   "outputs": [],
   "source": [
    "import clustcr\n",
    "from clustcr import Clustering\n",
    "# from clustcr.visualization import as_cluster_graph\n",
    "\n",
    "patient_seqs = cases_dataframes_dict[0][0].Sequences\n",
    "patient_seqs.drop_duplicates(inplace=True)\n",
    "# Cluster your TCR data\n",
    "res = Clustering(method='two-step').fit(patient_seqs)"
   ],
   "metadata": {
    "collapsed": false,
    "pycharm": {
     "is_executing": true
    }
   }
  },
  {
   "cell_type": "markdown",
   "source": [],
   "metadata": {
    "collapsed": false
   }
  },
  {
   "cell_type": "markdown",
   "source": [],
   "metadata": {
    "collapsed": false
   }
  },
  {
   "cell_type": "code",
   "execution_count": 25,
   "outputs": [],
   "source": [
    "res_df = res.clusters_df"
   ],
   "metadata": {
    "collapsed": false
   }
  },
  {
   "cell_type": "code",
   "execution_count": 32,
   "outputs": [
    {
     "data": {
      "text/plain": "         CDR3\ncluster      \n1         541\n833       237\n2927      219\n2926      201\n839       198\n1972      197\n2         194\n834       192\n2930      180\n2936      177\n2925      164\n2931      161\n830       161\n1973      160\n831       154\n2633      143\n2948      143\n2943      137\n2945      132\n2944      132",
      "text/html": "<div>\n<style scoped>\n    .dataframe tbody tr th:only-of-type {\n        vertical-align: middle;\n    }\n\n    .dataframe tbody tr th {\n        vertical-align: top;\n    }\n\n    .dataframe thead th {\n        text-align: right;\n    }\n</style>\n<table border=\"1\" class=\"dataframe\">\n  <thead>\n    <tr style=\"text-align: right;\">\n      <th></th>\n      <th>CDR3</th>\n    </tr>\n    <tr>\n      <th>cluster</th>\n      <th></th>\n    </tr>\n  </thead>\n  <tbody>\n    <tr>\n      <th>1</th>\n      <td>541</td>\n    </tr>\n    <tr>\n      <th>833</th>\n      <td>237</td>\n    </tr>\n    <tr>\n      <th>2927</th>\n      <td>219</td>\n    </tr>\n    <tr>\n      <th>2926</th>\n      <td>201</td>\n    </tr>\n    <tr>\n      <th>839</th>\n      <td>198</td>\n    </tr>\n    <tr>\n      <th>1972</th>\n      <td>197</td>\n    </tr>\n    <tr>\n      <th>2</th>\n      <td>194</td>\n    </tr>\n    <tr>\n      <th>834</th>\n      <td>192</td>\n    </tr>\n    <tr>\n      <th>2930</th>\n      <td>180</td>\n    </tr>\n    <tr>\n      <th>2936</th>\n      <td>177</td>\n    </tr>\n    <tr>\n      <th>2925</th>\n      <td>164</td>\n    </tr>\n    <tr>\n      <th>2931</th>\n      <td>161</td>\n    </tr>\n    <tr>\n      <th>830</th>\n      <td>161</td>\n    </tr>\n    <tr>\n      <th>1973</th>\n      <td>160</td>\n    </tr>\n    <tr>\n      <th>831</th>\n      <td>154</td>\n    </tr>\n    <tr>\n      <th>2633</th>\n      <td>143</td>\n    </tr>\n    <tr>\n      <th>2948</th>\n      <td>143</td>\n    </tr>\n    <tr>\n      <th>2943</th>\n      <td>137</td>\n    </tr>\n    <tr>\n      <th>2945</th>\n      <td>132</td>\n    </tr>\n    <tr>\n      <th>2944</th>\n      <td>132</td>\n    </tr>\n  </tbody>\n</table>\n</div>"
     },
     "execution_count": 32,
     "metadata": {},
     "output_type": "execute_result"
    }
   ],
   "source": [
    "# group by cluster and count the number of sequences in each cluster\n",
    "res_df.groupby('cluster').count().sort_values(by='CDR3', ascending=False).head(20)"
   ],
   "metadata": {
    "collapsed": false
   }
  },
  {
   "cell_type": "code",
   "execution_count": null,
   "outputs": [],
   "source": [],
   "metadata": {
    "collapsed": false
   }
  }
 ],
 "metadata": {
  "deepnote": {},
  "deepnote_execution_queue": [],
  "deepnote_notebook_id": "cef408d8-9130-407c-bfc8-1126d6b70d18",
  "kernelspec": {
   "display_name": "Python 3",
   "language": "python",
   "name": "python3"
  },
  "language_info": {
   "codemirror_mode": {
    "name": "ipython",
    "version": 3
   },
   "file_extension": ".py",
   "mimetype": "text/x-python",
   "name": "python",
   "nbconvert_exporter": "python",
   "pygments_lexer": "ipython3",
   "version": "3.9.2"
  }
 },
 "nbformat": 4,
 "nbformat_minor": 5
}
