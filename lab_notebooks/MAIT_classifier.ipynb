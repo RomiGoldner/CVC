{
 "cells": [
  {
   "cell_type": "markdown",
   "source": [
    "#### Binary Classification of MAIT/iNKT Cells\n",
    "Classify cell type (MAIT/iNKT) of a given CDR3 sequence using different machine/deep learning models and compare the results.\n",
    "The input CDR3 sequences are either embedded using CVC or converted to one-hot encoding."
   ],
   "metadata": {
    "collapsed": false
   }
  },
  {
   "cell_type": "code",
   "execution_count": 3,
   "id": "563a8d23-e24b-4cb5-8cea-5c6f52f66473",
   "metadata": {},
   "outputs": [
    {
     "name": "stdout",
     "output_type": "stream",
     "text": [
      "/home/romi/projects/cvc\n"
     ]
    }
   ],
   "source": [
    "cd .."
   ]
  },
  {
   "cell_type": "code",
   "execution_count": 4,
   "id": "131cbe9c-6069-4645-b71f-7bb33715697f",
   "metadata": {},
   "outputs": [],
   "source": [
    "%load_ext autoreload\n",
    "%autoreload 2"
   ]
  },
  {
   "cell_type": "code",
   "execution_count": 5,
   "id": "91824dd6-d4fd-44d9-8354-f219b37f075b",
   "metadata": {
    "cell_id": "00001-55732162-ceaf-44b6-b0f9-62861608b761",
    "deepnote_cell_height": 1117.875,
    "deepnote_cell_type": "code",
    "deepnote_output_heights": [
     null,
     21.1875
    ],
    "deepnote_to_be_reexecuted": false,
    "execution_millis": 2706,
    "execution_start": 1645287607716,
    "source_hash": "cc7135c9"
   },
   "outputs": [
    {
     "data": {
      "text/plain": "'plots/CDR3_data_plots'"
     },
     "execution_count": 5,
     "metadata": {},
     "output_type": "execute_result"
    }
   ],
   "source": [
    "import os, sys\n",
    "import collections\n",
    "import tqdm\n",
    "import pandas as pd\n",
    "import numpy as np\n",
    "import seaborn as sns\n",
    "import lab_notebooks.utils\n",
    "import torch\n",
    "\n",
    "from sklearn.metrics import roc_curve, auc\n",
    "from sklearn.metrics import confusion_matrix\n",
    "import matplotlib.pyplot as plt\n",
    "\n",
    "SRC_DIR = \"cvc\"\n",
    "assert os.path.isdir(SRC_DIR), f\"Cannot find src dir: {SRC_DIR}\"\n",
    "sys.path.append(SRC_DIR)\n",
    "from cvc import model_utils\n",
    "from lab_notebooks.utils import SC_TRANSFORMER, TRANSFORMER, DEVICE, DATA_DIR\n",
    "from single_cell_research import cvc_sequencing as cs\n",
    "MODEL_DIR = os.path.join(SRC_DIR, \"models\")\n",
    "sys.path.append(MODEL_DIR)\n",
    "\n",
    "FILT_EDIT_DIST = True\n",
    "\n",
    "PLOT_DIR = os.path.join(os.path.dirname(SRC_DIR), \"plots/CDR3_data_plots\")\n",
    "if not os.path.isdir(PLOT_DIR):\n",
    "    os.makedirs(PLOT_DIR)\n",
    "PLOT_DIR"
   ]
  },
  {
   "cell_type": "code",
   "execution_count": 6,
   "outputs": [
    {
     "data": {
      "text/plain": "device(type='cuda', index=0)"
     },
     "execution_count": 6,
     "metadata": {},
     "output_type": "execute_result"
    }
   ],
   "source": [
    "DEVICE"
   ],
   "metadata": {
    "collapsed": false
   }
  },
  {
   "cell_type": "markdown",
   "id": "fba0ce0b",
   "metadata": {},
   "source": [
    "#### Load Data"
   ]
  },
  {
   "cell_type": "code",
   "execution_count": 243,
   "outputs": [],
   "source": [
    "# to load the embeddings from csv\n",
    "load_csv = False\n",
    "PLOT_SC = False # true for single cell data, false for TRA/TRB\n",
    "CHAIN= 'TRA' # 'TRA' or 'TRB'\n",
    "# roc_auc_nn = {} # to save results"
   ],
   "metadata": {
    "collapsed": false
   }
  },
  {
   "cell_type": "code",
   "execution_count": 244,
   "outputs": [],
   "source": [
    "# load data, make sure to have V/J Gene of CDR3 sequence - below the data came from different datasets\n",
    "# https:/ls e/www.10xgenomics.com/resources/datasets/nsclc-tumor-tcr-enrichment-from-amplified-c-dna-1-standard-2-2-0\n",
    "data_dir_1 = DATA_DIR + \"10x_nsclc_tra_trb_df.csv\"\n",
    "# https://www.10xgenomics.com/resources/datasets/20-k-bone-marrow-mononuclear-cells-bmmn-cs-5-ht-v-2-0-2-high-6-1-0\n",
    "data_dir_2 = DATA_DIR + \"20k_BMMNC_vdj_t_filtered_contig_annotations.csv\"\n",
    "# https://www.10xgenomics.com/resources/datasets/pbm-cs-of-a-healthy-donor-tcr-enrichment-from-amplified-c-dna-1-standard-3-0-0\n",
    "data_dir_3 = DATA_DIR + \"pbmc2_t_filtered_contig_annotations.csv\"\n",
    "# https://www.10xgenomics.com/resources/datasets/10-k-human-pbm-cs-5-v-2-0-chromium-x-2-standard-6-1-0\n",
    "data_dir_4 = DATA_DIR + \"10k_pbmc_vdj_t_filtered_contig_annotations.csv\"\n",
    "# https://www.10xgenomics.com/resources/datasets/cd-8-plus-t-cells-of-healthy-donor-1-1-standard-3-0-2\n",
    "data_dir_5 = DATA_DIR + \"cd8_t_filtered_contig_annotations_d1.csv\"\n",
    "# https://www.10xgenomics.com/resources/datasets/cd-8-plus-t-cells-of-healthy-donor-2-1-standard-3-0-2\n",
    "data_dir_6 = DATA_DIR + \"cd8_t_filtered_contig_annotations_d2.csv\"\n",
    "# https://www.10xgenomics.com/resources/datasets/cd-8-plus-t-cells-of-healthy-donor-3-1-standard-3-0-2\n",
    "data_dir_7 = DATA_DIR + \"cd8_t_filtered_contig_annotations_d3.csv\"\n",
    "# https://www.10xgenomics.com/resources/datasets/cd-8-plus-t-cells-of-healthy-donor-4-1-standard-3-0-2\n",
    "data_dir_8 = DATA_DIR + \"cd8_t_filtered_contig_annotations_d4.csv\""
   ],
   "metadata": {
    "collapsed": false
   }
  },
  {
   "cell_type": "code",
   "execution_count": 245,
   "outputs": [],
   "source": [
    "def sc_load_data(data_dir):\n",
    "    sc_data = pd.read_csv(data_dir, usecols=[\"barcode\", \"contig_id\", \"chain\", \"v_gene\", \"j_gene\", \"c_gene\", \"cdr3\", \"cdr3_nt\"], engine=\"pyarrow\")\n",
    "    sc_data = sc_data[sc_data.cdr3 != \"None\"]\n",
    "    return sc_data"
   ],
   "metadata": {
    "collapsed": false
   }
  },
  {
   "cell_type": "code",
   "execution_count": 246,
   "id": "f7f68021-d2be-4beb-8bc0-a220e8bd41e0",
   "metadata": {},
   "outputs": [],
   "source": [
    "# read data\n",
    "sc_data_1 = sc_load_data(data_dir_1)\n",
    "sc_data_2 = sc_load_data(data_dir_2)\n",
    "sc_data_3 = sc_load_data(data_dir_3)\n",
    "sc_data_4 = sc_load_data(data_dir_4)\n",
    "sc_data_5 = sc_load_data(data_dir_5)\n",
    "sc_data_6 = sc_load_data(data_dir_6)\n",
    "sc_data_7 = sc_load_data(data_dir_7)\n",
    "sc_data_8 = sc_load_data(data_dir_8)"
   ]
  },
  {
   "cell_type": "code",
   "execution_count": 247,
   "outputs": [
    {
     "data": {
      "text/plain": "(3643, 19737, 6037, 14632, 123862, 191643, 321467, 233142)"
     },
     "execution_count": 247,
     "metadata": {},
     "output_type": "execute_result"
    }
   ],
   "source": [
    "len(sc_data_1), len(sc_data_2), len(sc_data_3), len(sc_data_4), len(sc_data_5), len(sc_data_6), len(sc_data_7), len(sc_data_8)"
   ],
   "metadata": {
    "collapsed": false
   }
  },
  {
   "cell_type": "markdown",
   "source": [
    "#### Preprocess Data - Label MAIT/iNKT Cells"
   ],
   "metadata": {
    "collapsed": false
   }
  },
  {
   "cell_type": "code",
   "execution_count": 248,
   "outputs": [],
   "source": [
    "MAIT_v_gene='TRAV1-2'\n",
    "MAIT_j_gene = ['TRAJ33', 'TRAJ20', 'TRAJ12']\n",
    "iNKT_v_gene = 'TRAV10'\n",
    "iNKT_j_gene = 'TRAJ18'\n",
    "\n",
    "v_gene_to_use = MAIT_v_gene #iNKT_v_gene\n",
    "j_gene_to_use = MAIT_j_gene #iNKT_j_gene\n",
    "cell_label_to_use = 'MAIT_cell'#'iNKT_cell'"
   ],
   "metadata": {
    "collapsed": false
   }
  },
  {
   "cell_type": "code",
   "execution_count": 249,
   "outputs": [],
   "source": [
    "def label_iNKT_MAIT(sc_df, v_gene_list, j_gene_list, cell_label):\n",
    "    cell_label_not = 'non-'+cell_label\n",
    "    sc_df_tra = sc_df[sc_df['chain'] == 'TRA']\n",
    "\n",
    "    # create \"MAIT_cell\" column if the v_gene is \"TRAV1-2\" and j_gene is TRAJ33 or TRAJ20 or TRAJ12\n",
    "    sc_df_tra[cell_label] = np.where((sc_df_tra['v_gene'] == v_gene_list) &\n",
    "                                     (sc_df_tra['j_gene'].str.contains('|'.join(j_gene_list))), cell_label, cell_label_not)\n",
    "\n",
    "    # extract the list of barcodes from the dataframe that are MAIT cells\n",
    "    true_label_barcodes = sc_df_tra[sc_df_tra[cell_label] == cell_label]['barcode'].tolist()\n",
    "\n",
    "    # create a column in embed_data that is MAIT_cell if the barcode is in the MAIT_barcodes list, and non-MAIT_cell otherwise\n",
    "    sc_df[cell_label] = np.where(sc_df['barcode'].isin(true_label_barcodes), cell_label, cell_label_not)\n",
    "    return sc_df"
   ],
   "metadata": {
    "collapsed": false
   }
  },
  {
   "cell_type": "code",
   "execution_count": 250,
   "outputs": [
    {
     "name": "stderr",
     "output_type": "stream",
     "text": [
      "/tmp/ipykernel_1211/2974906851.py:6: SettingWithCopyWarning: \n",
      "A value is trying to be set on a copy of a slice from a DataFrame.\n",
      "Try using .loc[row_indexer,col_indexer] = value instead\n",
      "\n",
      "See the caveats in the documentation: https://pandas.pydata.org/pandas-docs/stable/user_guide/indexing.html#returning-a-view-versus-a-copy\n",
      "  sc_df_tra[cell_label] = np.where((sc_df_tra['v_gene'] == v_gene_list) &\n",
      "/tmp/ipykernel_1211/2974906851.py:6: SettingWithCopyWarning: \n",
      "A value is trying to be set on a copy of a slice from a DataFrame.\n",
      "Try using .loc[row_indexer,col_indexer] = value instead\n",
      "\n",
      "See the caveats in the documentation: https://pandas.pydata.org/pandas-docs/stable/user_guide/indexing.html#returning-a-view-versus-a-copy\n",
      "  sc_df_tra[cell_label] = np.where((sc_df_tra['v_gene'] == v_gene_list) &\n",
      "/tmp/ipykernel_1211/2974906851.py:6: SettingWithCopyWarning: \n",
      "A value is trying to be set on a copy of a slice from a DataFrame.\n",
      "Try using .loc[row_indexer,col_indexer] = value instead\n",
      "\n",
      "See the caveats in the documentation: https://pandas.pydata.org/pandas-docs/stable/user_guide/indexing.html#returning-a-view-versus-a-copy\n",
      "  sc_df_tra[cell_label] = np.where((sc_df_tra['v_gene'] == v_gene_list) &\n",
      "/tmp/ipykernel_1211/2974906851.py:6: SettingWithCopyWarning: \n",
      "A value is trying to be set on a copy of a slice from a DataFrame.\n",
      "Try using .loc[row_indexer,col_indexer] = value instead\n",
      "\n",
      "See the caveats in the documentation: https://pandas.pydata.org/pandas-docs/stable/user_guide/indexing.html#returning-a-view-versus-a-copy\n",
      "  sc_df_tra[cell_label] = np.where((sc_df_tra['v_gene'] == v_gene_list) &\n",
      "/tmp/ipykernel_1211/2974906851.py:6: SettingWithCopyWarning: \n",
      "A value is trying to be set on a copy of a slice from a DataFrame.\n",
      "Try using .loc[row_indexer,col_indexer] = value instead\n",
      "\n",
      "See the caveats in the documentation: https://pandas.pydata.org/pandas-docs/stable/user_guide/indexing.html#returning-a-view-versus-a-copy\n",
      "  sc_df_tra[cell_label] = np.where((sc_df_tra['v_gene'] == v_gene_list) &\n",
      "/tmp/ipykernel_1211/2974906851.py:6: SettingWithCopyWarning: \n",
      "A value is trying to be set on a copy of a slice from a DataFrame.\n",
      "Try using .loc[row_indexer,col_indexer] = value instead\n",
      "\n",
      "See the caveats in the documentation: https://pandas.pydata.org/pandas-docs/stable/user_guide/indexing.html#returning-a-view-versus-a-copy\n",
      "  sc_df_tra[cell_label] = np.where((sc_df_tra['v_gene'] == v_gene_list) &\n",
      "/tmp/ipykernel_1211/2974906851.py:6: SettingWithCopyWarning: \n",
      "A value is trying to be set on a copy of a slice from a DataFrame.\n",
      "Try using .loc[row_indexer,col_indexer] = value instead\n",
      "\n",
      "See the caveats in the documentation: https://pandas.pydata.org/pandas-docs/stable/user_guide/indexing.html#returning-a-view-versus-a-copy\n",
      "  sc_df_tra[cell_label] = np.where((sc_df_tra['v_gene'] == v_gene_list) &\n",
      "/tmp/ipykernel_1211/2974906851.py:6: SettingWithCopyWarning: \n",
      "A value is trying to be set on a copy of a slice from a DataFrame.\n",
      "Try using .loc[row_indexer,col_indexer] = value instead\n",
      "\n",
      "See the caveats in the documentation: https://pandas.pydata.org/pandas-docs/stable/user_guide/indexing.html#returning-a-view-versus-a-copy\n",
      "  sc_df_tra[cell_label] = np.where((sc_df_tra['v_gene'] == v_gene_list) &\n"
     ]
    }
   ],
   "source": [
    "sc_data_1_labeled = label_iNKT_MAIT(sc_data_1, v_gene_to_use, j_gene_to_use, cell_label_to_use)\n",
    "sc_data_2_labeled = label_iNKT_MAIT(sc_data_2, v_gene_to_use, j_gene_to_use, cell_label_to_use)\n",
    "sc_data_3_labeled = label_iNKT_MAIT(sc_data_3, v_gene_to_use, j_gene_to_use, cell_label_to_use)\n",
    "sc_data_4_labeled = label_iNKT_MAIT(sc_data_4, v_gene_to_use, j_gene_to_use, cell_label_to_use)\n",
    "sc_data_5_labeled = label_iNKT_MAIT(sc_data_5, v_gene_to_use, j_gene_to_use, cell_label_to_use)\n",
    "sc_data_6_labeled = label_iNKT_MAIT(sc_data_6, v_gene_to_use, j_gene_to_use, cell_label_to_use)\n",
    "sc_data_7_labeled = label_iNKT_MAIT(sc_data_7, v_gene_to_use, j_gene_to_use, cell_label_to_use)\n",
    "sc_data_8_labeled = label_iNKT_MAIT(sc_data_8, v_gene_to_use, j_gene_to_use, cell_label_to_use)"
   ],
   "metadata": {
    "collapsed": false
   }
  },
  {
   "cell_type": "code",
   "execution_count": 251,
   "outputs": [],
   "source": [
    "if PLOT_SC == False:\n",
    "# take only chain\n",
    "    sc_data_1_labeled_by_chain = sc_data_1_labeled[sc_data_1_labeled.chain == CHAIN]\n",
    "    sc_data_2_labeled_by_chain = sc_data_2_labeled[sc_data_2_labeled.chain == CHAIN]\n",
    "    sc_data_3_labeled_by_chain = sc_data_3_labeled[sc_data_3_labeled.chain == CHAIN]\n",
    "    sc_data_4_labeled_by_chain = sc_data_4_labeled[sc_data_4_labeled.chain == CHAIN]\n",
    "    sc_data_5_labeled_by_chain = sc_data_5_labeled[sc_data_5_labeled.chain == CHAIN]\n",
    "    sc_data_6_labeled_by_chain = sc_data_6_labeled[sc_data_6_labeled.chain == CHAIN]\n",
    "    sc_data_7_labeled_by_chain = sc_data_7_labeled[sc_data_7_labeled.chain == CHAIN]\n",
    "    sc_data_8_labeled_by_chain = sc_data_8_labeled[sc_data_8_labeled.chain == CHAIN]\n",
    "    # concat all\n",
    "    sc_data_all_labeled = pd.concat([sc_data_1_labeled_by_chain, sc_data_2_labeled_by_chain, sc_data_3_labeled_by_chain, sc_data_4_labeled_by_chain, sc_data_5_labeled_by_chain, sc_data_6_labeled_by_chain, sc_data_7_labeled_by_chain, sc_data_8_labeled_by_chain])\n",
    "else:\n",
    "    sc_data_1_labeled_concat = cs.concatenate_labels(sc_data_1_labeled, label_column='MAIT_cell', barcodes_column='barcode')\n",
    "    sc_data_2_labeled_concat = cs.concatenate_labels(sc_data_2_labeled, label_column='MAIT_cell', barcodes_column='barcode')\n",
    "    sc_data_3_labeled_concat = cs.concatenate_labels(sc_data_3_labeled, label_column='MAIT_cell', barcodes_column='barcode')\n",
    "    sc_data_4_labeled_concat = cs.concatenate_labels(sc_data_4_labeled, label_column='MAIT_cell', barcodes_column='barcode')\n",
    "    sc_data_5_labeled_concat = cs.concatenate_labels(sc_data_5_labeled, label_column='MAIT_cell', barcodes_column='barcode')\n",
    "    sc_data_6_labeled_concat = cs.concatenate_labels(sc_data_6_labeled, label_column='MAIT_cell', barcodes_column='barcode')\n",
    "    sc_data_7_labeled_concat = cs.concatenate_labels(sc_data_7_labeled, label_column='MAIT_cell', barcodes_column='barcode')\n",
    "    sc_data_8_labeled_concat = cs.concatenate_labels(sc_data_8_labeled, label_column='MAIT_cell', barcodes_column='barcode')\n",
    "    # concat all\n",
    "    sc_data_all_labeled = pd.concat([sc_data_1_labeled_concat, sc_data_2_labeled_concat, sc_data_3_labeled_concat, sc_data_4_labeled_concat, sc_data_5_labeled_concat, sc_data_6_labeled_concat, sc_data_7_labeled_concat, sc_data_8_labeled_concat])"
   ],
   "metadata": {
    "collapsed": false
   }
  },
  {
   "cell_type": "code",
   "execution_count": 252,
   "outputs": [
    {
     "data": {
      "text/plain": "                   barcode                    contig_id chain    v_gene  \\\n1       AAGACCTCATTTGCCC-1  AAGACCTCATTTGCCC-1_contig_3   TRA    TRAV21   \n3       AAGGCAGCAAGTAATG-1  AAGGCAGCAAGTAATG-1_contig_2   TRA  TRAV13-2   \n4       AAGGCAGCAAGTAATG-1  AAGGCAGCAAGTAATG-1_contig_3   TRA    TRAV34   \n6       ATAAGAGCAAAGCGGT-1  ATAAGAGCAAAGCGGT-1_contig_6   TRA   TRAV8-1   \n7       CCTCAGTTCCGCATAA-1  CCTCAGTTCCGCATAA-1_contig_2   TRA  TRAV26-1   \n...                    ...                          ...   ...       ...   \n309835  TTTGTCATCTGCAGTA-1  TTTGTCATCTGCAGTA-1_contig_1   TRA     TRAV4   \n309840  TTTGTCATCTGGTTCC-4  TTTGTCATCTGGTTCC-4_contig_1   TRA     TRAV6   \n309846  TTTGTCATCTTCTGGC-6  TTTGTCATCTTCTGGC-6_contig_1   TRA    TRAV27   \n309847  TTTGTCATCTTGACGA-5  TTTGTCATCTTGACGA-5_contig_1   TRA    TRAV21   \n309854  TTTGTCATCTTTAGGG-5  TTTGTCATCTTTAGGG-5_contig_2   TRA    TRAV17   \n\n        j_gene c_gene              cdr3  \\\n1       TRAJ52   TRAC  CAVAPAGGTSYGKLTF   \n3       TRAJ28   TRAC   CAENDSGAGSYQLTF   \n4       TRAJ38   TRAC    CGADQGWQQP*ADL   \n6       TRAJ40   TRAC     CAVNGEGTYKYIF   \n7       TRAJ48   TRAC   CIVRSSNFGNEKLTF   \n...        ...    ...               ...   \n309835  TRAJ37   TRAC    CLVALSGNTGKLIF   \n309840   TRAJ4   TRAC      CALAGGYNKLIF   \n309846  TRAJ23   TRAC   CRSSR*PGRKAYLRT   \n309847  TRAJ50   TRAC   CAVDLMKTSYDKVIF   \n309854  TRAJ17   TRAC  CATDGGIKAAGNKLTF   \n\n                                                 cdr3_nt      MAIT_cell  \n1       TGTGCTGTGGCCCCTGCTGGTGGTACTAGCTATGGAAAGCTGACATTT  non-MAIT_cell  \n3          TGTGCAGAGAATGACTCTGGGGCTGGGAGTTACCAACTCACTTTC  non-MAIT_cell  \n4             TGTGGAGCAGACCAAGGCTGGCAACAACCGTAAGCTGATTTG  non-MAIT_cell  \n6                TGTGCCGTGAATGGTGAGGGAACCTACAAATACATCTTT  non-MAIT_cell  \n7          TGCATCGTCAGGTCATCTAACTTTGGAAATGAGAAATTAACCTTT  non-MAIT_cell  \n...                                                  ...            ...  \n309835        TGCCTCGTGGCCCTCTCTGGCAACACAGGCAAACTAATCTTT  non-MAIT_cell  \n309840              TGTGCTCTAGCCGGTGGCTACAATAAGCTGATTTTT  non-MAIT_cell  \n309846     TGCAGGAGCTCTCGGTAACCAGGGAGGAAAGCTTATCTTCGGACA  non-MAIT_cell  \n309847     TGTGCTGTCGATCTCATGAAAACCTCCTACGACAAGGTGATATTT  non-MAIT_cell  \n309854  TGTGCTACGGACGGGGGGATCAAAGCTGCAGGCAACAAGCTAACTTTT  non-MAIT_cell  \n\n[380689 rows x 9 columns]",
      "text/html": "<div>\n<style scoped>\n    .dataframe tbody tr th:only-of-type {\n        vertical-align: middle;\n    }\n\n    .dataframe tbody tr th {\n        vertical-align: top;\n    }\n\n    .dataframe thead th {\n        text-align: right;\n    }\n</style>\n<table border=\"1\" class=\"dataframe\">\n  <thead>\n    <tr style=\"text-align: right;\">\n      <th></th>\n      <th>barcode</th>\n      <th>contig_id</th>\n      <th>chain</th>\n      <th>v_gene</th>\n      <th>j_gene</th>\n      <th>c_gene</th>\n      <th>cdr3</th>\n      <th>cdr3_nt</th>\n      <th>MAIT_cell</th>\n    </tr>\n  </thead>\n  <tbody>\n    <tr>\n      <th>1</th>\n      <td>AAGACCTCATTTGCCC-1</td>\n      <td>AAGACCTCATTTGCCC-1_contig_3</td>\n      <td>TRA</td>\n      <td>TRAV21</td>\n      <td>TRAJ52</td>\n      <td>TRAC</td>\n      <td>CAVAPAGGTSYGKLTF</td>\n      <td>TGTGCTGTGGCCCCTGCTGGTGGTACTAGCTATGGAAAGCTGACATTT</td>\n      <td>non-MAIT_cell</td>\n    </tr>\n    <tr>\n      <th>3</th>\n      <td>AAGGCAGCAAGTAATG-1</td>\n      <td>AAGGCAGCAAGTAATG-1_contig_2</td>\n      <td>TRA</td>\n      <td>TRAV13-2</td>\n      <td>TRAJ28</td>\n      <td>TRAC</td>\n      <td>CAENDSGAGSYQLTF</td>\n      <td>TGTGCAGAGAATGACTCTGGGGCTGGGAGTTACCAACTCACTTTC</td>\n      <td>non-MAIT_cell</td>\n    </tr>\n    <tr>\n      <th>4</th>\n      <td>AAGGCAGCAAGTAATG-1</td>\n      <td>AAGGCAGCAAGTAATG-1_contig_3</td>\n      <td>TRA</td>\n      <td>TRAV34</td>\n      <td>TRAJ38</td>\n      <td>TRAC</td>\n      <td>CGADQGWQQP*ADL</td>\n      <td>TGTGGAGCAGACCAAGGCTGGCAACAACCGTAAGCTGATTTG</td>\n      <td>non-MAIT_cell</td>\n    </tr>\n    <tr>\n      <th>6</th>\n      <td>ATAAGAGCAAAGCGGT-1</td>\n      <td>ATAAGAGCAAAGCGGT-1_contig_6</td>\n      <td>TRA</td>\n      <td>TRAV8-1</td>\n      <td>TRAJ40</td>\n      <td>TRAC</td>\n      <td>CAVNGEGTYKYIF</td>\n      <td>TGTGCCGTGAATGGTGAGGGAACCTACAAATACATCTTT</td>\n      <td>non-MAIT_cell</td>\n    </tr>\n    <tr>\n      <th>7</th>\n      <td>CCTCAGTTCCGCATAA-1</td>\n      <td>CCTCAGTTCCGCATAA-1_contig_2</td>\n      <td>TRA</td>\n      <td>TRAV26-1</td>\n      <td>TRAJ48</td>\n      <td>TRAC</td>\n      <td>CIVRSSNFGNEKLTF</td>\n      <td>TGCATCGTCAGGTCATCTAACTTTGGAAATGAGAAATTAACCTTT</td>\n      <td>non-MAIT_cell</td>\n    </tr>\n    <tr>\n      <th>...</th>\n      <td>...</td>\n      <td>...</td>\n      <td>...</td>\n      <td>...</td>\n      <td>...</td>\n      <td>...</td>\n      <td>...</td>\n      <td>...</td>\n      <td>...</td>\n    </tr>\n    <tr>\n      <th>309835</th>\n      <td>TTTGTCATCTGCAGTA-1</td>\n      <td>TTTGTCATCTGCAGTA-1_contig_1</td>\n      <td>TRA</td>\n      <td>TRAV4</td>\n      <td>TRAJ37</td>\n      <td>TRAC</td>\n      <td>CLVALSGNTGKLIF</td>\n      <td>TGCCTCGTGGCCCTCTCTGGCAACACAGGCAAACTAATCTTT</td>\n      <td>non-MAIT_cell</td>\n    </tr>\n    <tr>\n      <th>309840</th>\n      <td>TTTGTCATCTGGTTCC-4</td>\n      <td>TTTGTCATCTGGTTCC-4_contig_1</td>\n      <td>TRA</td>\n      <td>TRAV6</td>\n      <td>TRAJ4</td>\n      <td>TRAC</td>\n      <td>CALAGGYNKLIF</td>\n      <td>TGTGCTCTAGCCGGTGGCTACAATAAGCTGATTTTT</td>\n      <td>non-MAIT_cell</td>\n    </tr>\n    <tr>\n      <th>309846</th>\n      <td>TTTGTCATCTTCTGGC-6</td>\n      <td>TTTGTCATCTTCTGGC-6_contig_1</td>\n      <td>TRA</td>\n      <td>TRAV27</td>\n      <td>TRAJ23</td>\n      <td>TRAC</td>\n      <td>CRSSR*PGRKAYLRT</td>\n      <td>TGCAGGAGCTCTCGGTAACCAGGGAGGAAAGCTTATCTTCGGACA</td>\n      <td>non-MAIT_cell</td>\n    </tr>\n    <tr>\n      <th>309847</th>\n      <td>TTTGTCATCTTGACGA-5</td>\n      <td>TTTGTCATCTTGACGA-5_contig_1</td>\n      <td>TRA</td>\n      <td>TRAV21</td>\n      <td>TRAJ50</td>\n      <td>TRAC</td>\n      <td>CAVDLMKTSYDKVIF</td>\n      <td>TGTGCTGTCGATCTCATGAAAACCTCCTACGACAAGGTGATATTT</td>\n      <td>non-MAIT_cell</td>\n    </tr>\n    <tr>\n      <th>309854</th>\n      <td>TTTGTCATCTTTAGGG-5</td>\n      <td>TTTGTCATCTTTAGGG-5_contig_2</td>\n      <td>TRA</td>\n      <td>TRAV17</td>\n      <td>TRAJ17</td>\n      <td>TRAC</td>\n      <td>CATDGGIKAAGNKLTF</td>\n      <td>TGTGCTACGGACGGGGGGATCAAAGCTGCAGGCAACAAGCTAACTTTT</td>\n      <td>non-MAIT_cell</td>\n    </tr>\n  </tbody>\n</table>\n<p>380689 rows × 9 columns</p>\n</div>"
     },
     "execution_count": 252,
     "metadata": {},
     "output_type": "execute_result"
    }
   ],
   "source": [
    "sc_data_all_labeled"
   ],
   "metadata": {
    "collapsed": false
   }
  },
  {
   "cell_type": "code",
   "execution_count": 253,
   "outputs": [
    {
     "data": {
      "text/plain": "Counter({'non-MAIT_cell': 372632, 'MAIT_cell': 8057})"
     },
     "execution_count": 253,
     "metadata": {},
     "output_type": "execute_result"
    }
   ],
   "source": [
    "collections.Counter(sc_data_all_labeled[cell_label_to_use])"
   ],
   "metadata": {
    "collapsed": false
   }
  },
  {
   "cell_type": "code",
   "execution_count": 254,
   "outputs": [],
   "source": [
    "# drop duplicates\n",
    "sc_data_all_labeled = sc_data_all_labeled.drop_duplicates(subset=['cdr3'])\n",
    "# drop nan\n",
    "sc_data_all_labeled = sc_data_all_labeled.dropna(subset=['cdr3'])"
   ],
   "metadata": {
    "collapsed": false
   }
  },
  {
   "cell_type": "code",
   "execution_count": 255,
   "outputs": [
    {
     "data": {
      "text/plain": "Counter({'non-MAIT_cell': 98941, 'MAIT_cell': 1266})"
     },
     "execution_count": 255,
     "metadata": {},
     "output_type": "execute_result"
    }
   ],
   "source": [
    "collections.Counter(sc_data_all_labeled[cell_label_to_use])"
   ],
   "metadata": {
    "collapsed": false
   }
  },
  {
   "cell_type": "code",
   "execution_count": 256,
   "outputs": [],
   "source": [
    "# export data\n",
    "if PLOT_SC == False:\n",
    "    sc_data_all_labeled.to_csv('./CDR3_data/sc_data_MAIT_TRA_8_datasets.csv', index=False)\n",
    "else:\n",
    "    sc_data_all_labeled.to_csv('./CDR3_data/sc_data_MAIT_sc_8_datasets.csv', index=False)"
   ],
   "metadata": {
    "collapsed": false
   }
  },
  {
   "cell_type": "markdown",
   "id": "fb78feaa",
   "metadata": {},
   "source": [
    "#### Split cell-types into equal groups"
   ]
  },
  {
   "cell_type": "code",
   "execution_count": 257,
   "outputs": [],
   "source": [
    "cell_label = cell_label_to_use\n",
    "cell_label_not = 'non-'+cell_label"
   ],
   "metadata": {
    "collapsed": false
   }
  },
  {
   "cell_type": "code",
   "execution_count": 258,
   "outputs": [],
   "source": [
    "cell_count = collections.Counter(sc_data_all_labeled[cell_label])[cell_label]\n",
    "NUM_TO_SAMPLE = cell_count\n",
    "# sample equal number of private and public\n",
    "if cell_label == 'MAIT_cell':\n",
    "    true_sample = sc_data_all_labeled.query('MAIT_cell == \"MAIT_cell\"').sample(NUM_TO_SAMPLE)\n",
    "    false_sample = sc_data_all_labeled.query('MAIT_cell == \"non-MAIT_cell\"').sample(NUM_TO_SAMPLE)\n",
    "elif cell_label == 'iNKT_cell':\n",
    "    true_sample = sc_data_all_labeled.query('iNKT_cell == \"iNKT_cell\"').sample(NUM_TO_SAMPLE)\n",
    "    false_sample = sc_data_all_labeled.query('iNKT_cell == \"non-iNKT_cell\"').sample(NUM_TO_SAMPLE)\n",
    "else:\n",
    "    raise ValueError('')"
   ],
   "metadata": {
    "collapsed": false
   }
  },
  {
   "cell_type": "code",
   "execution_count": 259,
   "outputs": [
    {
     "data": {
      "text/plain": "                    barcode                     contig_id chain       v_gene  \\\n12173   ACCCACTTCATGTCTT-40  ACCCACTTCATGTCTT-40_contig_3   TRA      TRAV1-2   \n5056     CACATTTCAGCTCCGA-1   CACATTTCAGCTCCGA-1_contig_1   TRA      TRAV1-2   \n85459    TCTATTGGTGTGCCTG-1   TCTATTGGTGTGCCTG-1_contig_2   TRA      TRAV1-2   \n64161   CGACTTCGTCAGAGGT-22  CGACTTCGTCAGAGGT-22_contig_2   TRA      TRAV1-2   \n110874  CGCGGTATCCCACTTG-40  CGCGGTATCCCACTTG-40_contig_5   TRA     TRAV13-1   \n...                     ...                           ...   ...          ...   \n78245   CTACATTCATTCGACA-23  CTACATTCATTCGACA-23_contig_4   TRA       TRAV39   \n216102   CAGCATATCACATACG-8   CAGCATATCACATACG-8_contig_1   TRA     TRAV13-1   \n6471     TAGCCGGTCCTGCCAT-1   TAGCCGGTCCTGCCAT-1_contig_1   TRA       TRAV39   \n169038   CCCAGTTGTTAAGAAC-8   CCCAGTTGTTAAGAAC-8_contig_2   TRA    TRAV14DV4   \n74616    GTGTGCGGTCGAACAG-8   GTGTGCGGTCGAACAG-8_contig_2   TRA  TRAV38-2DV8   \n\n        j_gene c_gene              cdr3  \\\n12173   TRAJ33   TRAC    CAVSPPDSNYQLIW   \n5056    TRAJ12   TRAC      CAAMDSSYKLIF   \n85459   TRAJ33   TRAC   CAVRGLMDSNYQLIW   \n64161   TRAJ20   TRAC   CAVREGSSNDYKLSF   \n110874   TRAJ7   TRAC     CAASILGTTDSLL   \n...        ...    ...               ...   \n78245   TRAJ27   TRAC       CAVDIEGKSTF   \n216102  TRAJ27   TRAC    CAAPTNTNAGKSTF   \n6471    TRAJ53   TRAC  CAVDMGSGGSNYKLTF   \n169038   TRAJ9   TRAC    CAMRGRTGGFKTIF   \n74616   TRAJ30   TRAC     CAYSQNRDDKIIF   \n\n                                                 cdr3_nt      MAIT_cell  \n12173         TGTGCTGTGAGTCCTCCTGATAGCAACTATCAGTTAATCTGG      MAIT_cell  \n5056                TGTGCTGCGATGGATAGCAGCTATAAATTGATCTTC      MAIT_cell  \n85459      TGTGCTGTGAGAGGCCTCATGGATAGCAACTATCAGTTAATCTGG      MAIT_cell  \n64161      TGTGCTGTGAGAGAGGGGTCTTCTAACGACTACAAGCTCAGCTTT      MAIT_cell  \n110874           TGTGCAGCAAGTATACTGGGAACAACAGACTCGCTTTTG      MAIT_cell  \n...                                                  ...            ...  \n78245                  TGTGCCGTGGACATAGAAGGCAAATCAACCTTT  non-MAIT_cell  \n216102        TGTGCAGCACCCACCAACACCAATGCAGGCAAATCAACCTTT  non-MAIT_cell  \n6471    TGTGCCGTGGACATGGGAAGTGGAGGTAGCAACTATAAACTGACATTT  non-MAIT_cell  \n169038        TGTGCAATGAGAGGGAGGACTGGAGGCTTCAAAACTATCTTT  non-MAIT_cell  \n74616            TGTGCTTATAGCCAGAACAGAGATGACAAGATCATCTTT  non-MAIT_cell  \n\n[2532 rows x 9 columns]",
      "text/html": "<div>\n<style scoped>\n    .dataframe tbody tr th:only-of-type {\n        vertical-align: middle;\n    }\n\n    .dataframe tbody tr th {\n        vertical-align: top;\n    }\n\n    .dataframe thead th {\n        text-align: right;\n    }\n</style>\n<table border=\"1\" class=\"dataframe\">\n  <thead>\n    <tr style=\"text-align: right;\">\n      <th></th>\n      <th>barcode</th>\n      <th>contig_id</th>\n      <th>chain</th>\n      <th>v_gene</th>\n      <th>j_gene</th>\n      <th>c_gene</th>\n      <th>cdr3</th>\n      <th>cdr3_nt</th>\n      <th>MAIT_cell</th>\n    </tr>\n  </thead>\n  <tbody>\n    <tr>\n      <th>12173</th>\n      <td>ACCCACTTCATGTCTT-40</td>\n      <td>ACCCACTTCATGTCTT-40_contig_3</td>\n      <td>TRA</td>\n      <td>TRAV1-2</td>\n      <td>TRAJ33</td>\n      <td>TRAC</td>\n      <td>CAVSPPDSNYQLIW</td>\n      <td>TGTGCTGTGAGTCCTCCTGATAGCAACTATCAGTTAATCTGG</td>\n      <td>MAIT_cell</td>\n    </tr>\n    <tr>\n      <th>5056</th>\n      <td>CACATTTCAGCTCCGA-1</td>\n      <td>CACATTTCAGCTCCGA-1_contig_1</td>\n      <td>TRA</td>\n      <td>TRAV1-2</td>\n      <td>TRAJ12</td>\n      <td>TRAC</td>\n      <td>CAAMDSSYKLIF</td>\n      <td>TGTGCTGCGATGGATAGCAGCTATAAATTGATCTTC</td>\n      <td>MAIT_cell</td>\n    </tr>\n    <tr>\n      <th>85459</th>\n      <td>TCTATTGGTGTGCCTG-1</td>\n      <td>TCTATTGGTGTGCCTG-1_contig_2</td>\n      <td>TRA</td>\n      <td>TRAV1-2</td>\n      <td>TRAJ33</td>\n      <td>TRAC</td>\n      <td>CAVRGLMDSNYQLIW</td>\n      <td>TGTGCTGTGAGAGGCCTCATGGATAGCAACTATCAGTTAATCTGG</td>\n      <td>MAIT_cell</td>\n    </tr>\n    <tr>\n      <th>64161</th>\n      <td>CGACTTCGTCAGAGGT-22</td>\n      <td>CGACTTCGTCAGAGGT-22_contig_2</td>\n      <td>TRA</td>\n      <td>TRAV1-2</td>\n      <td>TRAJ20</td>\n      <td>TRAC</td>\n      <td>CAVREGSSNDYKLSF</td>\n      <td>TGTGCTGTGAGAGAGGGGTCTTCTAACGACTACAAGCTCAGCTTT</td>\n      <td>MAIT_cell</td>\n    </tr>\n    <tr>\n      <th>110874</th>\n      <td>CGCGGTATCCCACTTG-40</td>\n      <td>CGCGGTATCCCACTTG-40_contig_5</td>\n      <td>TRA</td>\n      <td>TRAV13-1</td>\n      <td>TRAJ7</td>\n      <td>TRAC</td>\n      <td>CAASILGTTDSLL</td>\n      <td>TGTGCAGCAAGTATACTGGGAACAACAGACTCGCTTTTG</td>\n      <td>MAIT_cell</td>\n    </tr>\n    <tr>\n      <th>...</th>\n      <td>...</td>\n      <td>...</td>\n      <td>...</td>\n      <td>...</td>\n      <td>...</td>\n      <td>...</td>\n      <td>...</td>\n      <td>...</td>\n      <td>...</td>\n    </tr>\n    <tr>\n      <th>78245</th>\n      <td>CTACATTCATTCGACA-23</td>\n      <td>CTACATTCATTCGACA-23_contig_4</td>\n      <td>TRA</td>\n      <td>TRAV39</td>\n      <td>TRAJ27</td>\n      <td>TRAC</td>\n      <td>CAVDIEGKSTF</td>\n      <td>TGTGCCGTGGACATAGAAGGCAAATCAACCTTT</td>\n      <td>non-MAIT_cell</td>\n    </tr>\n    <tr>\n      <th>216102</th>\n      <td>CAGCATATCACATACG-8</td>\n      <td>CAGCATATCACATACG-8_contig_1</td>\n      <td>TRA</td>\n      <td>TRAV13-1</td>\n      <td>TRAJ27</td>\n      <td>TRAC</td>\n      <td>CAAPTNTNAGKSTF</td>\n      <td>TGTGCAGCACCCACCAACACCAATGCAGGCAAATCAACCTTT</td>\n      <td>non-MAIT_cell</td>\n    </tr>\n    <tr>\n      <th>6471</th>\n      <td>TAGCCGGTCCTGCCAT-1</td>\n      <td>TAGCCGGTCCTGCCAT-1_contig_1</td>\n      <td>TRA</td>\n      <td>TRAV39</td>\n      <td>TRAJ53</td>\n      <td>TRAC</td>\n      <td>CAVDMGSGGSNYKLTF</td>\n      <td>TGTGCCGTGGACATGGGAAGTGGAGGTAGCAACTATAAACTGACATTT</td>\n      <td>non-MAIT_cell</td>\n    </tr>\n    <tr>\n      <th>169038</th>\n      <td>CCCAGTTGTTAAGAAC-8</td>\n      <td>CCCAGTTGTTAAGAAC-8_contig_2</td>\n      <td>TRA</td>\n      <td>TRAV14DV4</td>\n      <td>TRAJ9</td>\n      <td>TRAC</td>\n      <td>CAMRGRTGGFKTIF</td>\n      <td>TGTGCAATGAGAGGGAGGACTGGAGGCTTCAAAACTATCTTT</td>\n      <td>non-MAIT_cell</td>\n    </tr>\n    <tr>\n      <th>74616</th>\n      <td>GTGTGCGGTCGAACAG-8</td>\n      <td>GTGTGCGGTCGAACAG-8_contig_2</td>\n      <td>TRA</td>\n      <td>TRAV38-2DV8</td>\n      <td>TRAJ30</td>\n      <td>TRAC</td>\n      <td>CAYSQNRDDKIIF</td>\n      <td>TGTGCTTATAGCCAGAACAGAGATGACAAGATCATCTTT</td>\n      <td>non-MAIT_cell</td>\n    </tr>\n  </tbody>\n</table>\n<p>2532 rows × 9 columns</p>\n</div>"
     },
     "execution_count": 259,
     "metadata": {},
     "output_type": "execute_result"
    }
   ],
   "source": [
    "# join public and private samples\n",
    "cell_type_data_sample = pd.concat([true_sample, false_sample])\n",
    "cell_type_data_sample"
   ],
   "metadata": {
    "collapsed": false
   }
  },
  {
   "cell_type": "code",
   "execution_count": 260,
   "outputs": [],
   "source": [
    "cell_type_data_sample.to_csv('./CDR3_data/sc_data_MAIT_8_datasets_sampled.csv', index=False)"
   ],
   "metadata": {
    "collapsed": false
   }
  },
  {
   "cell_type": "code",
   "execution_count": 261,
   "outputs": [
    {
     "name": "stdout",
     "output_type": "stream",
     "text": [
      "['MAIT_cell' 'MAIT_cell' 'MAIT_cell' ... 'non-MAIT_cell' 'non-MAIT_cell'\n",
      " 'non-MAIT_cell']\n"
     ]
    }
   ],
   "source": [
    "# convert label column to numpy array\n",
    "cell_label_array = cell_type_data_sample[cell_label].to_numpy()\n",
    "print(cell_label_array)"
   ],
   "metadata": {
    "collapsed": false
   }
  },
  {
   "cell_type": "code",
   "execution_count": 262,
   "outputs": [],
   "source": [
    "# rename cdr3 column to Sequences for embedding creation\n",
    "cell_type_data_sample.rename(columns={\"cdr3\": \"Sequences\"}, inplace=True)"
   ],
   "metadata": {
    "collapsed": false
   }
  },
  {
   "cell_type": "code",
   "execution_count": 263,
   "outputs": [
    {
     "name": "stderr",
     "output_type": "stream",
     "text": [
      "Some weights of the model checkpoint at /home/romi/projects/cvc/output_dir_singlecell_v2 were not used when initializing BertModel: ['cls.predictions.transform.LayerNorm.bias', 'cls.predictions.transform.dense.bias', 'cls.predictions.decoder.bias', 'cls.predictions.decoder.weight', 'cls.predictions.transform.LayerNorm.weight', 'cls.predictions.transform.dense.weight', 'cls.predictions.bias']\n",
      "- This IS expected if you are initializing BertModel from the checkpoint of a model trained on another task or with another architecture (e.g. initializing a BertForSequenceClassification model from a BertForPreTraining model).\n",
      "- This IS NOT expected if you are initializing BertModel from the checkpoint of a model that you expect to be exactly identical (initializing a BertForSequenceClassification model from a BertForSequenceClassification model).\n"
     ]
    },
    {
     "data": {
      "text/plain": "  0%|          | 0/20 [00:00<?, ?it/s]",
      "application/vnd.jupyter.widget-view+json": {
       "version_major": 2,
       "version_minor": 0,
       "model_id": "db181f224c8d470b84a6e609bd665d2a"
      }
     },
     "metadata": {},
     "output_type": "display_data"
    },
    {
     "data": {
      "text/plain": "(2532, 768)"
     },
     "execution_count": 263,
     "metadata": {},
     "output_type": "execute_result"
    }
   ],
   "source": [
    "from cvc.embbeding_wrapper import EmbeddingWrapper\n",
    "# Create embeddings\n",
    "# when using TRANSFORMER, max_len=64, batch_size=256\n",
    "embed_wrap = EmbeddingWrapper(SC_TRANSFORMER, DEVICE, sequences_df=cell_type_data_sample, batch_size=128, method=\"mean\", layers=[-1], pbar=True, max_len=120)\n",
    "embed_wrap.embeddings.shape"
   ],
   "metadata": {
    "collapsed": false
   }
  },
  {
   "cell_type": "code",
   "execution_count": 264,
   "outputs": [
    {
     "name": "stderr",
     "output_type": "stream",
     "text": [
      "/opt/conda/envs/tcrbert/lib/python3.9/site-packages/anndata/_core/anndata.py:119: ImplicitModificationWarning: Transforming to str index.\n",
      "  warnings.warn(\"Transforming to str index.\", ImplicitModificationWarning)\n",
      "Observation names are not unique. To make them unique, call `.obs_names_make_unique`.\n"
     ]
    }
   ],
   "source": [
    "# create anndata object\n",
    "embeddings_adata = embed_wrap.create_anndata()\n",
    "# embeddings df\n",
    "df_embeddings = pd.DataFrame(embed_wrap.embeddings)"
   ],
   "metadata": {
    "collapsed": false
   }
  },
  {
   "cell_type": "code",
   "execution_count": 265,
   "outputs": [],
   "source": [
    "# add MAIT label to dataframe\n",
    "df_embeddings_with_label = df_embeddings\n",
    "df_embeddings_with_label[cell_label]=list(embeddings_adata.obs[cell_label])\n",
    "df_embeddings_with_label['Sequences']=list(embeddings_adata.obs['Sequences'])"
   ],
   "metadata": {
    "collapsed": false
   }
  },
  {
   "cell_type": "code",
   "execution_count": 266,
   "outputs": [],
   "source": [
    "file_embedding_path = './' + cell_label + '_sc_data_TRA_embeddings_8_datasets.csv'\n",
    "# export embeddings to csvֿ\n",
    "df_embeddings_with_label.to_csv(DATA_DIR + file_embedding_path)"
   ],
   "metadata": {
    "collapsed": false
   }
  },
  {
   "cell_type": "code",
   "execution_count": 267,
   "outputs": [],
   "source": [
    "# load from csv\n",
    "if load_csv==True:\n",
    "    df_embeddings_with_label = pd.read_csv(\"./CDR3_data/MAIT_cell_sc_data_embeddings_8_datasets.csv\")\n",
    "    df_embeddings_with_label = df_embeddings_with_label.drop_duplicates(subset=['Sequences'])\n",
    "    # remove Public_Private_Label co\\lumn\n",
    "    # df_embeddings_with_label = df_embeddings_with_label.drop(columns=['Public_Private_Label'])\n",
    "cell_type_embeddings = df_embeddings_with_label.iloc[:,1:-2].to_numpy()\n",
    "cell_type_label_array= df_embeddings_with_label.MAIT_cell.to_numpy()"
   ],
   "metadata": {
    "collapsed": false
   }
  },
  {
   "cell_type": "code",
   "execution_count": 268,
   "outputs": [
    {
     "data": {
      "text/plain": "Counter({'MAIT_cell': 1266, 'non-MAIT_cell': 1266})"
     },
     "execution_count": 268,
     "metadata": {},
     "output_type": "execute_result"
    }
   ],
   "source": [
    "# drop duplicates Sequences\n",
    "df_embeddings_with_label = df_embeddings_with_label.drop_duplicates(subset=['Sequences'])\n",
    "collections.Counter(df_embeddings_with_label.MAIT_cell)"
   ],
   "metadata": {
    "collapsed": false
   }
  },
  {
   "cell_type": "markdown",
   "source": [
    "#### Binary Classification Utils"
   ],
   "metadata": {
    "collapsed": false
   }
  },
  {
   "cell_type": "code",
   "execution_count": 269,
   "outputs": [],
   "source": [
    "TRAIN_RATIO = 0.8\n",
    "\n",
    "def split_train_test(embeddings, embedding_labels):\n",
    "    #import pdb; pdb.set_trace()\n",
    "    # The data will be divided into 80% training 20% validation\n",
    "    idx_train = int(len(embeddings) * TRAIN_RATIO)\n",
    "\n",
    "    indices = np.arange(embeddings.shape[0])\n",
    "\n",
    "    # Shuffle data\n",
    "    np.random.shuffle(indices)\n",
    "\n",
    "    # Separate the images and the labels\n",
    "    embeddings_shuffle = embeddings[indices] \n",
    "    embedding_labels_shuffle = embedding_labels[indices]\n",
    "\n",
    "    # Split to train and validation\n",
    "    train_embeddings = embeddings_shuffle[:idx_train]\n",
    "    train_labels = embedding_labels_shuffle[:idx_train]\n",
    "    validation_embeddings = embeddings_shuffle[idx_train:]\n",
    "    validation_labels = embedding_labels_shuffle[idx_train:]\n",
    "    \n",
    "    return train_embeddings, train_labels, validation_embeddings, validation_labels"
   ],
   "metadata": {
    "collapsed": false
   }
  },
  {
   "cell_type": "code",
   "execution_count": 270,
   "outputs": [
    {
     "name": "stdout",
     "output_type": "stream",
     "text": [
      "shape of embeddings: (2532, 767)\n",
      "shape of embedding_labels: (2532,)\n"
     ]
    }
   ],
   "source": [
    "embeddings = cell_type_embeddings\n",
    "embedding_labels = cell_type_label_array\n",
    "print(\"shape of embeddings: {}\\nshape of embedding_labels: {}\".format(embeddings.shape,embedding_labels.shape))"
   ],
   "metadata": {
    "collapsed": false
   }
  },
  {
   "cell_type": "code",
   "execution_count": 271,
   "outputs": [
    {
     "data": {
      "text/plain": "((2025, 767), (2025,), (507, 767), (507,))"
     },
     "execution_count": 271,
     "metadata": {},
     "output_type": "execute_result"
    }
   ],
   "source": [
    "train_embeddings, embed_train_labels, validation_embeddings, embed_validation_labels = split_train_test(embeddings, embedding_labels)\n",
    "train_embeddings.shape, embed_train_labels.shape, validation_embeddings.shape, embed_validation_labels.shape"
   ],
   "metadata": {
    "collapsed": false
   }
  },
  {
   "cell_type": "code",
   "execution_count": 272,
   "outputs": [],
   "source": [
    "labels = [cell_label, cell_label_not]\n",
    "label_to_id = {label: i for i, label in enumerate(labels)}\n",
    "numeric_train_labels = [label_to_id[label] for label in embed_train_labels]\n",
    "numeric_valid_labels = [label_to_id[label] for label in embed_validation_labels]"
   ],
   "metadata": {
    "collapsed": false
   }
  },
  {
   "cell_type": "code",
   "execution_count": 273,
   "outputs": [
    {
     "data": {
      "text/plain": "(Counter({0: 244, 1: 263}), Counter({1: 1003, 0: 1022}))"
     },
     "execution_count": 273,
     "metadata": {},
     "output_type": "execute_result"
    }
   ],
   "source": [
    "# check that the data is even\n",
    "collections.Counter(numeric_valid_labels), collections.Counter(numeric_train_labels)"
   ],
   "metadata": {
    "collapsed": false
   }
  },
  {
   "cell_type": "markdown",
   "source": [
    "##### One-Hot Encoding"
   ],
   "metadata": {
    "collapsed": false
   }
  },
  {
   "cell_type": "code",
   "execution_count": 36,
   "outputs": [],
   "source": [
    "# Import Dependencies \n",
    "import pandas as pd\n",
    "import numpy as np\n",
    "import torch.nn.functional as F\n",
    "\n",
    "# Function to encode sequences\n",
    "def encode_seq(sequence, max_cdr3_len):\n",
    "    alphabet = ['A', 'C', 'D', 'E', 'F', 'G','H', 'I', 'K', 'L', 'M', 'N', 'P', 'Q', 'R', 'S', 'T', 'V', 'W', 'Y', \"*\", '|']\n",
    "    char_to_int = dict((c, i) for i, c in enumerate(alphabet))\n",
    "    integer_encoded = [char_to_int[char] for char in sequence]\n",
    "    \n",
    "    # one hot encode\n",
    "    integer_encoded = torch.tensor(integer_encoded)\n",
    "    integer_encoded = F.one_hot(integer_encoded, num_classes=len(alphabet))\n",
    "    \n",
    "    # pad integer_encoded tensor first dim with zeros up to max_cdr3_len\n",
    "    integer_encoded = F.pad(integer_encoded, (0,0,0, max_cdr3_len - len(integer_encoded)))\n",
    "    \n",
    "    integer_encoded = integer_encoded.numpy()\n",
    "\n",
    "    return integer_encoded"
   ],
   "metadata": {
    "collapsed": false
   }
  },
  {
   "cell_type": "code",
   "execution_count": 37,
   "outputs": [
    {
     "data": {
      "text/plain": "26"
     },
     "execution_count": 37,
     "metadata": {},
     "output_type": "execute_result"
    }
   ],
   "source": [
    "# extract sequences\n",
    "cdr3_sequences = df_embeddings_with_label['Sequences']#tcrb_data_sample['Sequences']\n",
    "sequences_labels = cell_type_label_array\n",
    "max_cdr3_len = cdr3_sequences.apply(len).max()\n",
    "max_cdr3_len"
   ],
   "metadata": {
    "collapsed": false
   }
  },
  {
   "cell_type": "code",
   "execution_count": 38,
   "outputs": [
    {
     "name": "stdout",
     "output_type": "stream",
     "text": [
      "shape of training set: (2025,)\n",
      "shape of validation set: (507,)\n"
     ]
    }
   ],
   "source": [
    "# split data into train/test\n",
    "train_seqs, train_labels, validation_seqs, validation_labels = split_train_test(cdr3_sequences.to_numpy(), sequences_labels)\n",
    "print(\"shape of training set: {}\\nshape of validation set: {}\".format(train_seqs.shape, validation_seqs.shape))"
   ],
   "metadata": {
    "collapsed": false
   }
  },
  {
   "cell_type": "code",
   "execution_count": 39,
   "outputs": [],
   "source": [
    "numeric_train_onehot_labels = [label_to_id[label] for label in train_labels]\n",
    "numeric_valid_onehot_labels = [label_to_id[label] for label in validation_labels]"
   ],
   "metadata": {
    "collapsed": false
   }
  },
  {
   "cell_type": "code",
   "execution_count": 40,
   "outputs": [],
   "source": [
    "# encode amino acid sequences to one hot vector\n",
    "encoded_train_seqs = pd.Series(train_seqs).apply(lambda x: encode_seq(x, max_cdr3_len))\n",
    "encoded_validation_seqs = pd.Series(validation_seqs).apply(lambda x: encode_seq(x, max_cdr3_len))"
   ],
   "metadata": {
    "collapsed": false
   }
  },
  {
   "cell_type": "code",
   "execution_count": 41,
   "outputs": [
    {
     "data": {
      "text/plain": "((2025, 26, 22), (507, 26, 22))"
     },
     "execution_count": 41,
     "metadata": {},
     "output_type": "execute_result"
    }
   ],
   "source": [
    "# Stack list(encoded_train_seqs) in dim 0\n",
    "train_seqs_stack = np.stack(encoded_train_seqs, axis=0)\n",
    "valid_seqs_stack = np.stack(encoded_validation_seqs, axis=0)\n",
    "train_seqs_stack.shape, valid_seqs_stack.shape"
   ],
   "metadata": {
    "collapsed": false
   }
  },
  {
   "cell_type": "code",
   "execution_count": 42,
   "outputs": [
    {
     "data": {
      "text/plain": "((2025, 572), (507, 572))"
     },
     "execution_count": 42,
     "metadata": {},
     "output_type": "execute_result"
    }
   ],
   "source": [
    "# reshape train/validation tensors\n",
    "train_seqs_stack = train_seqs_stack.reshape(train_seqs_stack.shape[0], -1)\n",
    "valid_seqs_stack = valid_seqs_stack.reshape(valid_seqs_stack.shape[0], -1)\n",
    "train_seqs_stack.shape, valid_seqs_stack.shape"
   ],
   "metadata": {
    "collapsed": false
   }
  },
  {
   "cell_type": "markdown",
   "source": [
    "#### xgBoost on Embeddings\n",
    "Guide on xgBoost - https://towardsdatascience.com/beginners-guide-to-xgboost-for-classification-problems-50f75aac5390"
   ],
   "metadata": {
    "collapsed": false
   }
  },
  {
   "cell_type": "code",
   "execution_count": 45,
   "outputs": [],
   "source": [
    "# feature scaling\n",
    "from sklearn.preprocessing import StandardScaler\n",
    "sc = StandardScaler()\n",
    "train_embeddings = sc.fit_transform(train_embeddings)\n",
    "validation_embeddings = sc.fit_transform(validation_embeddings)"
   ],
   "metadata": {
    "collapsed": false
   }
  },
  {
   "cell_type": "code",
   "execution_count": 46,
   "outputs": [
    {
     "data": {
      "text/plain": "78.30374753451676"
     },
     "execution_count": 46,
     "metadata": {},
     "output_type": "execute_result"
    }
   ],
   "source": [
    "# extract accuracy\n",
    "accuracy_xgb, xgb_preds, xgb_classifier = \\\n",
    "    lab_notebooks.utils.xgb_classify(train_embeddings, numeric_train_labels, validation_embeddings, numeric_valid_labels)\n",
    "accuracy_xgb"
   ],
   "metadata": {
    "collapsed": false
   }
  },
  {
   "cell_type": "code",
   "execution_count": 45,
   "outputs": [],
   "source": [
    "# plot the roc curve for the model\n",
    "# get probabilities\n",
    "probs = xgb_classifier.predict_proba(validation_embeddings)\n",
    "fpr_xgb, tpr_xgb, thresholds_xgb = roc_curve(numeric_valid_labels, probs[:, 1])\n",
    "roc_auc_xgb = auc(fpr_xgb, tpr_xgb)"
   ],
   "metadata": {
    "collapsed": false
   }
  },
  {
   "cell_type": "markdown",
   "source": [
    "#### xgBoost on One-Hot Encoding"
   ],
   "metadata": {
    "collapsed": false
   }
  },
  {
   "cell_type": "code",
   "execution_count": 68,
   "outputs": [
    {
     "data": {
      "text/plain": "70.21696252465483"
     },
     "execution_count": 68,
     "metadata": {},
     "output_type": "execute_result"
    }
   ],
   "source": [
    "# apply xgb on onehot, extract accuracy\n",
    "accuracy_xgb_onehot, xgb_preds_onehot, xgb_classifier_onehot =\\\n",
    "    lab_notebooks.utils.xgb_classify(train_seqs_stack, numeric_train_onehot_labels, valid_seqs_stack, numeric_valid_onehot_labels)\n",
    "\n",
    "# get probabilities and roc\n",
    "probs = xgb_classifier_onehot.predict_proba(valid_seqs_stack)\n",
    "fpr_onehot_xgb, tpr_onehot_xgb, thresholds_onehot_xgb = roc_curve(numeric_valid_onehot_labels, probs[:, 1])\n",
    "roc_auc_onehot_xgb = auc(fpr_onehot_xgb, tpr_onehot_xgb)\n",
    "\n",
    "accuracy_xgb_onehot"
   ],
   "metadata": {
    "collapsed": false
   }
  },
  {
   "cell_type": "markdown",
   "source": [
    "#### Random Forest on Embeddings"
   ],
   "metadata": {
    "collapsed": false
   }
  },
  {
   "cell_type": "code",
   "execution_count": null,
   "outputs": [],
   "source": [
    "# Run with atom-ml\n",
    "from atom import ATOMClassifier\n",
    "\n",
    "df = pd.DataFrame(np.concatenate([train_embeddings, validation_embeddings], axis=0))\n",
    "df['label'] = numeric_train_labels + numeric_valid_labels\n",
    "\n",
    "atom = ATOMClassifier(df, y='label', n_rows=len(df), verbose=2)\n",
    "atom.run(models=[\n",
    "    \"RF\"\n",
    "], metric=\"accuracy\", n_trials=15)"
   ],
   "metadata": {
    "collapsed": false,
    "pycharm": {
     "is_executing": true
    }
   }
  },
  {
   "cell_type": "markdown",
   "source": [
    "#### LDA"
   ],
   "metadata": {
    "collapsed": false
   }
  },
  {
   "cell_type": "code",
   "execution_count": 110,
   "outputs": [],
   "source": [
    "# apply LDA\n",
    "accuracy_lda, lda_preds, lda_classifier = lab_notebooks.utils.lda_classify(train_embeddings,numeric_train_labels, validation_embeddings, numeric_valid_labels)"
   ],
   "metadata": {
    "collapsed": false
   }
  },
  {
   "cell_type": "code",
   "execution_count": 111,
   "outputs": [
    {
     "data": {
      "text/plain": "69.2704495210022"
     },
     "execution_count": 111,
     "metadata": {},
     "output_type": "execute_result"
    }
   ],
   "source": [
    "# plot the roc curve for the model\n",
    "# get probabilities\n",
    "probs = lda_classifier.predict_proba(validation_embeddings)\n",
    "fpr_lda, tpr_lda, thresholds_lda = roc_curve(numeric_valid_labels, probs[:, 1])\n",
    "roc_auc_lda = auc(fpr_lda, tpr_lda)\n",
    "\n",
    "accuracy_lda"
   ],
   "metadata": {
    "collapsed": false
   }
  },
  {
   "cell_type": "markdown",
   "source": [
    "#### LDA oneHot"
   ],
   "metadata": {
    "collapsed": false
   }
  },
  {
   "cell_type": "code",
   "execution_count": 117,
   "outputs": [
    {
     "data": {
      "text/plain": "66.61753868828298"
     },
     "execution_count": 117,
     "metadata": {},
     "output_type": "execute_result"
    }
   ],
   "source": [
    "# apply xgb on onehot, extract accuracy\n",
    "accuracy_lda_onehot, lda_preds_onehot, lda_classifier_onehot =\\\n",
    "    lab_notebooks.utils.lda_classify(train_seqs_stack, numeric_train_onehot_labels, valid_seqs_stack, numeric_valid_onehot_labels)\n",
    "\n",
    "probs_oh_lda = lda_classifier_onehot.predict_proba(valid_seqs_stack)\n",
    "fpr_onehot_lda, tpr_onehot_lda, thresholds_onehot_lda = roc_curve(numeric_valid_onehot_labels, probs_oh_lda[:, 1])\n",
    "roc_auc_onehot_lda = auc(fpr_onehot_lda, tpr_onehot_lda)\n",
    "\n",
    "accuracy_lda_onehot"
   ],
   "metadata": {
    "collapsed": false
   }
  },
  {
   "cell_type": "markdown",
   "source": [
    "### Deep Neural Network"
   ],
   "metadata": {
    "collapsed": false
   }
  },
  {
   "cell_type": "markdown",
   "source": [
    "#### Deep Learning Model on Embeddings"
   ],
   "metadata": {
    "collapsed": false
   }
  },
  {
   "cell_type": "code",
   "execution_count": 274,
   "outputs": [],
   "source": [
    "# set flag to run with onehot\n",
    "DNN_ONEHOT = 0"
   ],
   "metadata": {
    "collapsed": false
   }
  },
  {
   "cell_type": "code",
   "execution_count": 275,
   "outputs": [],
   "source": [
    "# defining dataset class\n",
    "from torch.utils.data import Dataset, DataLoader\n",
    "class dataset(Dataset):\n",
    "    def __init__(self,x, y):\n",
    "        # self.x = torch.tensor(x, dtype=torch.float32).to('cuda')\n",
    "        # self.y = torch.tensor(y, dtype=torch.float32).to('cuda')\n",
    "        self.x = torch.tensor(x, dtype=torch.float32)\n",
    "        self.y = torch.tensor(y, dtype=torch.float32)\n",
    "        self.length = self.x.shape[0]\n",
    "        assert self.x.shape[0] == self.y.shape[0]\n",
    "        \n",
    "    def __getitem__(self, idx):\n",
    "        return self.x[idx], self.y[idx]\n",
    "    \n",
    "    def __len__(self):\n",
    "        return self.length"
   ],
   "metadata": {
    "collapsed": false
   }
  },
  {
   "cell_type": "code",
   "execution_count": 276,
   "outputs": [
    {
     "name": "stderr",
     "output_type": "stream",
     "text": [
      "/opt/conda/envs/tcrbert/lib/python3.9/site-packages/torch/utils/data/dataloader.py:554: UserWarning: This DataLoader will create 10 worker processes in total. Our suggested max number of worker in current system is 8, which is smaller than what this DataLoader is going to create. Please be aware that excessive worker creation might get DataLoader running slow or even freeze, lower the worker number to avoid potential slowness/freeze if necessary.\n",
      "  warnings.warn(_create_warning_msg(\n"
     ]
    }
   ],
   "source": [
    "BATCH_SIZE = 256 #32\n",
    "\n",
    "# create datasets\n",
    "if DNN_ONEHOT==0:\n",
    "    trainset = dataset(train_embeddings, numeric_train_labels)\n",
    "    validset = dataset(validation_embeddings, numeric_valid_labels)\n",
    "else:\n",
    "    trainset = dataset(train_seqs_stack, numeric_train_onehot_labels)\n",
    "    validset = dataset(valid_seqs_stack, numeric_valid_onehot_labels)\n",
    "\n",
    "# DataLoader with 10 workers\n",
    "trainloader = DataLoader(trainset, batch_size=BATCH_SIZE, shuffle=True, num_workers=10, pin_memory=True)\n",
    "validloader = DataLoader(validset, batch_size=BATCH_SIZE, num_workers=10, pin_memory=True)"
   ],
   "metadata": {
    "collapsed": false
   }
  },
  {
   "cell_type": "code",
   "execution_count": 277,
   "outputs": [],
   "source": [
    "# defining the network\n",
    "from torch import nn\n",
    "from torch.nn import functional as F\n",
    "\n",
    "class Net(nn.Module):\n",
    "    def __init__(self, input_shape):\n",
    "        super(Net,self).__init__()\n",
    "        self.fc1 = nn.Linear(input_shape,128)\n",
    "        self.fc2 = nn.Linear(128,32)\n",
    "        self.fc3 = nn.Linear(32,1)\n",
    "    \n",
    "    def forward(self,x):\n",
    "        x = torch.relu(self.fc1(x))\n",
    "        x = torch.relu(self.fc2(x))\n",
    "        x = torch.sigmoid(self.fc3(x))\n",
    "        return x\n",
    "\n",
    "# add some more regularization\n",
    "class Net2_v2(nn.Module):\n",
    "    def __init__(self, input_shape):\n",
    "        super(Net2_v2,self).__init__()\n",
    "        self.fc1 = nn.Linear(input_shape,128)\n",
    "        self.fc2 = nn.Linear(128,32)\n",
    "        self.fc3 = nn.Linear(32,1)\n",
    "        self.dropout = nn.Dropout(0.5)\n",
    "        self.batchnorm1 = nn.BatchNorm1d(128)\n",
    "        self.batchnorm2 = nn.BatchNorm1d(32)\n",
    "\n",
    "    def forward(self,x):\n",
    "        x = torch.relu(self.fc1(x))\n",
    "        x = self.batchnorm1(x)\n",
    "        x = self.dropout(x)\n",
    "        x = torch.relu(self.fc2(x))\n",
    "        x = self.batchnorm2(x)\n",
    "        x = self.dropout(x)\n",
    "        x = torch.sigmoid(self.fc3(x))\n",
    "        return x"
   ],
   "metadata": {
    "collapsed": false
   }
  },
  {
   "cell_type": "code",
   "execution_count": 278,
   "outputs": [],
   "source": [
    "# hyper parameters\n",
    "# learning_rate = 0.000001\n",
    "learning_rate  = 0.00001\n",
    "\n",
    "# set input shape\n",
    "input_shape = train_embeddings.shape[1]\n",
    "if DNN_ONEHOT:\n",
    "    input_shape = train_seqs_stack.shape[1]\n",
    "\n",
    "# Model , Optimizer, Loss\n",
    "model = Net(input_shape=input_shape).to(DEVICE)\n",
    "optimizer = torch.optim.Adam(model.parameters(),lr=learning_rate)\n",
    "loss_fn = nn.BCELoss()"
   ],
   "metadata": {
    "collapsed": false
   }
  },
  {
   "cell_type": "code",
   "execution_count": 279,
   "outputs": [],
   "source": [
    "def calculate_accuracy(y_pred, y_test):\n",
    "    y_pred_tag = torch.round(y_pred)\n",
    "    y_test = y_test.unsqueeze(1)\n",
    "    correct_results_sum = (y_pred_tag == y_test).sum().float()\n",
    "    acc = correct_results_sum/y_test.shape[0]\n",
    "    acc = torch.round(acc * 100)\n",
    "    return acc"
   ],
   "metadata": {
    "collapsed": false
   }
  },
  {
   "cell_type": "code",
   "execution_count": 280,
   "outputs": [],
   "source": [
    "def train_classify(model, trainloader, optimizer):\n",
    "    epoch_loss = 0\n",
    "    epoch_acc = 0\n",
    "    count = 0\n",
    "    model.train()\n",
    "    for train_embedding, train_label in tqdm.notebook.tqdm(trainloader, total=len(trainloader)):\n",
    "        # option to move train_embedding, train_label to gpu here\n",
    "        # calculate output\n",
    "        train_embedding, train_label =  train_embedding.to(DEVICE), train_label.to(DEVICE)\n",
    "        output = model(train_embedding)\n",
    "        \n",
    "        # calculate loss\n",
    "        loss = loss_fn(output, train_label.reshape(-1,1))\n",
    "        \n",
    "        # accuracy\n",
    "        acc = calculate_accuracy(output, train_label)\n",
    "        \n",
    "        # backprop\n",
    "        optimizer.zero_grad() \n",
    "        loss.backward()\n",
    "        optimizer.step()\n",
    "\n",
    "        epoch_loss += loss.item()\n",
    "        epoch_acc += acc.item()\n",
    "        count += len(train_label)\n",
    "        \n",
    "    return epoch_loss / len(trainloader), epoch_acc / len(trainloader)"
   ],
   "metadata": {
    "collapsed": false
   }
  },
  {
   "cell_type": "code",
   "execution_count": 281,
   "outputs": [],
   "source": [
    "def evaluate_classify(model, validloader): \n",
    "    epoch_loss = 0\n",
    "    epoch_acc = 0\n",
    "    count = 0\n",
    "    model.eval()\n",
    "    label_list = []\n",
    "    pred_label_list = []\n",
    "    with torch.no_grad(): \n",
    "        for valid_embedding, valid_label in tqdm.notebook.tqdm(validloader, total=len(validloader)):\n",
    "            # option to move valid_embedding, valid_label to gpu here\n",
    "            valid_embedding, valid_label = valid_embedding.to(DEVICE), valid_label.to(DEVICE)\n",
    "            # calculate output\n",
    "            output = model(valid_embedding)\n",
    "\n",
    "            # calculate loss\n",
    "            loss = loss_fn(output, valid_label.reshape(-1,1))\n",
    "\n",
    "            # accuracy\n",
    "            acc = calculate_accuracy(output, valid_label)\n",
    "            \n",
    "            # add to lists for confusion matrixv\n",
    "            label_list.append(valid_label.cpu())\n",
    "            pred_label_list.append(output.cpu())\n",
    "            \n",
    "            #acc = calculate_accuracy(output, valid_label)\n",
    "            epoch_loss += loss.item()\n",
    "            epoch_acc += acc.item()\n",
    "            count += len(valid_label)\n",
    "    return (epoch_loss / len(validloader), epoch_acc / len(validloader),\n",
    "            torch.cat(label_list, dim=0), \n",
    "            torch.cat(pred_label_list, dim=0))"
   ],
   "metadata": {
    "collapsed": false
   }
  },
  {
   "cell_type": "code",
   "execution_count": 282,
   "outputs": [
    {
     "data": {
      "text/plain": "<Figure size 1200x1200 with 4 Axes>",
      "image/png": "[encoded data removed]"
     },
     "metadata": {},
     "output_type": "display_data"
    },
    {
     "name": "stdout",
     "output_type": "stream",
     "text": [
      "train accuracy\n",
      "\ttrain accuracy   \t (min:   51.750, max:   73.375, cur:   73.375)\n",
      "train loss\n",
      "\ttrain loss       \t (min:    0.548, max:    0.691, cur:    0.548)\n",
      "validation accuracy\n",
      "\tvalidation accuracy \t (min:   56.000, max:   76.500, cur:   76.000)\n",
      "validation loss\n",
      "\tvalidation loss  \t (min:    0.528, max:    0.690, cur:    0.528)\n"
     ]
    }
   ],
   "source": [
    "from livelossplot import PlotLosses\n",
    "\n",
    "liveloss1_class = PlotLosses()\n",
    "logs_class = {}\n",
    "EPOCHS=80\n",
    "\n",
    "for epoch in range(EPOCHS):\n",
    "    print('starting epoch {}'.format(epoch))\n",
    "    train_loss, train_acc = train_classify(model, trainloader, optimizer)\n",
    "    print('Epoch {} of {}, Train Loss: {:.3f}'.format(\n",
    "            epoch+1, EPOCHS, train_loss))\n",
    "    \n",
    "    print('Epoch {} of {}, Train Accuracy: {:.3f}'.format(\n",
    "          epoch+1, EPOCHS, train_acc))\n",
    "    \n",
    "    logs_class['train loss'] = train_loss\n",
    "    logs_class['train accuracy'] = train_acc\n",
    "\n",
    "    valid_loss, valid_acc, label_list, pred_label_list  = evaluate_classify(model, validloader)\n",
    "    print('Epoch {} of {}, Validate Loss: {:.3f}'.format(\n",
    "        epoch+1, EPOCHS, valid_loss))\n",
    "    \n",
    "    print('Epoch {} of {}, Validate Accuracy: {:.3f}'.format(\n",
    "        epoch+1, EPOCHS, valid_acc))\n",
    "\n",
    "    logs_class['validation loss'] = valid_loss\n",
    "    logs_class['validation accuracy'] = valid_acc\n",
    "        \n",
    "    liveloss1_class.update(logs_class)\n",
    "    liveloss1_class.send()"
   ],
   "metadata": {
    "collapsed": false
   }
  },
  {
   "cell_type": "code",
   "execution_count": 283,
   "outputs": [],
   "source": [
    "# Save model\n",
    "PATH = \"./classifiers/TRA_MAIT_classifier.pth\"\n",
    "torch.save({\n",
    "    'model_state_dict': model.state_dict(),\n",
    "    'optimizer_state_dict': optimizer.state_dict(),\n",
    "}, PATH)"
   ],
   "metadata": {
    "collapsed": false
   }
  },
  {
   "cell_type": "code",
   "execution_count": 284,
   "outputs": [
    {
     "data": {
      "text/plain": "  0%|          | 0/2 [00:00<?, ?it/s]",
      "application/vnd.jupyter.widget-view+json": {
       "version_major": 2,
       "version_minor": 0,
       "model_id": "d00f5ec9f1af4e6d8f304d1bf86cd876"
      }
     },
     "metadata": {},
     "output_type": "display_data"
    }
   ],
   "source": [
    "# get predictions from model\n",
    "label_list = []\n",
    "pred_label_list = []\n",
    "_, _, label_list, pred_label_list = evaluate_classify(model, validloader)"
   ],
   "metadata": {
    "collapsed": false
   }
  },
  {
   "cell_type": "code",
   "execution_count": 285,
   "outputs": [],
   "source": [
    "preds, labels = pred_label_list[:, 0].cpu().numpy(), label_list.unsqueeze(1)[:, 0].cpu().numpy()\n",
    "preds_at_threshold_05 = (preds > 0.5).astype(int)\n",
    "labels = labels.astype(int)"
   ],
   "metadata": {
    "collapsed": false
   }
  },
  {
   "cell_type": "code",
   "execution_count": 286,
   "outputs": [],
   "source": [
    "# calculate FN, TP, TN, FP \n",
    "tn_nn, fp_nn, fn_nn, tp_nn = confusion_matrix(preds_at_threshold_05, labels).ravel()\n",
    "\n",
    "labels_vals = [tn_nn, fp_nn, fn_nn, tp_nn]\n",
    "labels_TF = [f\"True Negative\",\"False Positive\",\"False Negative\",\"True Positive\"]\n",
    "sum_all = tn_nn + fp_nn + fn_nn + tp_nn\n",
    "\n",
    "labels_vals_str = [str(round(val/sum_all, 4)*100) for val in labels_vals]\n",
    "labels_TF_final = [f\"{label}\\n{label_val_str}%\" for label, label_val_str in zip(labels_TF, labels_vals_str)]"
   ],
   "metadata": {
    "collapsed": false
   }
  },
  {
   "cell_type": "code",
   "execution_count": 287,
   "outputs": [],
   "source": [
    "labels_TF_final = [[labels_TF_final[0], labels_TF_final[1]], [labels_TF_final[2], labels_TF_final[3]]]"
   ],
   "metadata": {
    "collapsed": false
   }
  },
  {
   "cell_type": "code",
   "execution_count": 288,
   "outputs": [
    {
     "data": {
      "text/plain": "<AxesSubplot: >"
     },
     "execution_count": 288,
     "metadata": {},
     "output_type": "execute_result"
    },
    {
     "data": {
      "text/plain": "<Figure size 1000x700 with 2 Axes>",
      "image/png": "[encoded data removed]"
     },
     "metadata": {},
     "output_type": "display_data"
    }
   ],
   "source": [
    "# calculate confusion matrix\n",
    "confusion_mat_val = confusion_matrix(preds_at_threshold_05, label_list.cpu().numpy())\n",
    "labels_TF = np.asarray(labels_TF).reshape(2,2)\n",
    "plt.figure(figsize = (10,7))\n",
    "sns.heatmap(confusion_mat_val, annot=labels_TF_final, fmt=\"\", cmap='RdPu')"
   ],
   "metadata": {
    "collapsed": false
   }
  },
  {
   "cell_type": "code",
   "execution_count": 289,
   "outputs": [],
   "source": [
    "# save results\n",
    "roc_auc_nn['fpr_'+CHAIN], roc_auc_nn['tpr_'+CHAIN], roc_auc_nn['thresholds_'+CHAIN] = roc_curve(label_list.cpu().numpy(), preds)\n",
    "roc_auc_nn['roc_auc_'+CHAIN] = auc(roc_auc_nn['fpr_'+CHAIN], roc_auc_nn['tpr_'+CHAIN])"
   ],
   "metadata": {
    "collapsed": false
   }
  },
  {
   "cell_type": "markdown",
   "source": [
    "#### Plot Results"
   ],
   "metadata": {
    "collapsed": false
   }
  },
  {
   "cell_type": "code",
   "execution_count": 80,
   "outputs": [
    {
     "data": {
      "text/plain": "{'DNN_CVC': 69.84366666666666, 'DNN_scCVC': 75.62033333333333}"
     },
     "execution_count": 80,
     "metadata": {},
     "output_type": "execute_result"
    }
   ],
   "source": [
    "dnn_dic_1 = {'DNN_CVC': [70, 69.531, 70],\n",
    "             'DNN_scCVC': [75.535, 76, 75.326]}\n",
    "\n",
    "# calculate mean accuracy for each model\n",
    "res_dnn_avg = {key: np.mean(value) for key, value in dnn_dic_1.items()}\n",
    "res_dnn_avg"
   ],
   "metadata": {
    "collapsed": false
   }
  },
  {
   "cell_type": "code",
   "execution_count": 81,
   "outputs": [
    {
     "data": {
      "text/plain": "<Figure size 1000x600 with 1 Axes>",
      "image/png": "[encoded data removed]"
     },
     "metadata": {},
     "output_type": "display_data"
    }
   ],
   "source": [
    "# dictionary\n",
    "dnn_dic = {'model': ['DNN_CVC', 'DNN_CVC', 'DNN_CVC',\n",
    "                     'DNN_scCVC', 'DNN_scCVC', 'DNN_scCVC'],\n",
    "           'accuracy': [70, 69.531, 70, 75.535, 76, 75.326]}\n",
    "\n",
    "# barplot of accuracy with error bars\n",
    "df = pd.DataFrame(dnn_dic)\n",
    "df = df.sort_values(by='accuracy', ascending=False)\n",
    "df = df.reset_index(drop=True)\n",
    "df\n",
    "# plot\n",
    "fig, ax = plt.subplots(figsize=(10, 6))\n",
    "sns.barplot(x='model', y='accuracy', data=df, ax=ax, palette=\"flare\", capsize=.2)\n",
    "ax.set_title('MAIT Classification Results Using CVC and scCVC')\n",
    "ax.set_ylabel('Accuracy (%)')\n",
    "ax.set_xlabel('Model')\n",
    "# ax.set_ylim(85, 100)\n",
    "# save figure in svg format in high resolution\n",
    "plt.savefig('./plots/cvc_2.0/accuracy_CVC_scCVC_MAIT.svg', format='svg', dpi=1200)\n",
    "plt.show()"
   ],
   "metadata": {
    "collapsed": false
   }
  },
  {
   "cell_type": "markdown",
   "source": [
    "#### Plot ROC Curve"
   ],
   "metadata": {
    "collapsed": false
   }
  },
  {
   "cell_type": "code",
   "execution_count": 292,
   "outputs": [
    {
     "data": {
      "text/plain": "<Figure size 640x480 with 1 Axes>",
      "image/png": "[encoded data removed]"
     },
     "metadata": {},
     "output_type": "display_data"
    }
   ],
   "source": [
    "# plot roc curve\n",
    "plt.plot(roc_auc_nn['fpr_TRA'], roc_auc_nn['tpr_TRA'], color='green',\n",
    "         label='TRA (area = %0.2f)' % roc_auc_nn[\"roc_auc_TRA\"])\n",
    "plt.plot(roc_auc_nn['fpr_TRB'], roc_auc_nn['tpr_TRB'], color='lightgreen',\n",
    "         label='TRB (area = %0.2f)' % roc_auc_nn[\"roc_auc_TRB\"])\n",
    "plt.plot(roc_auc_nn['fpr_SC'], roc_auc_nn['tpr_SC'], color='lightblue',\n",
    "         label='TRA+TRB (Single-Cell) (area = %0.2f)' % roc_auc_nn[\"roc_auc_SC\"])\n",
    "# Set axis labels\n",
    "plt.xlabel('False Positive Rate')\n",
    "plt.ylabel('True Positive Rate')\n",
    "# Set title\n",
    "plt.title('Supervised Classification of MAIT Using TRA/TRB CDR3 Sequences')\n",
    "# Set plot legend\n",
    "plt.legend(loc=\"lower right\")\n",
    "# save figure in svg format in high resolution\n",
    "plt.savefig('./plots/cvc_2.0/ROC_TRA_TRB_MAIT.svg', format='svg', dpi=1200)\n",
    "# Show plot\n",
    "plt.show()"
   ],
   "metadata": {
    "collapsed": false
   }
  }
 ],
 "metadata": {
  "kernelspec": {
   "display_name": "Python 3",
   "language": "python",
   "name": "python3"
  },
  "language_info": {
   "codemirror_mode": {
    "name": "ipython",
    "version": 3
   },
   "file_extension": ".py",
   "mimetype": "text/x-python",
   "name": "python",
   "nbconvert_exporter": "python",
   "pygments_lexer": "ipython3",
   "version": "3.9.2"
  }
 },
 "nbformat": 4,
 "nbformat_minor": 5
}
