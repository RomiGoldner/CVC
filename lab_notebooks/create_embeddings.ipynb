{
 "cells": [
  {
   "cell_type": "markdown",
   "source": [
    "#### Create Embeddings for CDR3 Sequences (with specified model)\n",
    "##### Edit input and outputs paths. Input path should direct to the csv that has the sequences to create the embeddings for, and the output path should direct to the csv that will hold the embeddings."
   ],
   "metadata": {
    "collapsed": false
   }
  },
  {
   "cell_type": "code",
   "execution_count": 1,
   "outputs": [],
   "source": [
    "%load_ext autoreload\n",
    "%autoreload 2"
   ],
   "metadata": {
    "collapsed": false
   }
  },
  {
   "cell_type": "code",
   "execution_count": 2,
   "outputs": [
    {
     "name": "stdout",
     "output_type": "stream",
     "text": [
      "/home/dsi/rgoldner/projects/cvc\n"
     ]
    }
   ],
   "source": [
    "cd .."
   ],
   "metadata": {
    "collapsed": false
   }
  },
  {
   "cell_type": "markdown",
   "source": [
    "#### Set Environment"
   ],
   "metadata": {
    "collapsed": false
   }
  },
  {
   "cell_type": "code",
   "execution_count": 3,
   "outputs": [],
   "source": [
    "import os, sys\n",
    "import pandas as pd\n",
    "SRC_DIR = \"cvc\"\n",
    "assert os.path.isdir(SRC_DIR), f\"Cannot find src dir: {SRC_DIR}\"\n",
    "sys.path.append(SRC_DIR)\n",
    "\n",
    "from cvc import model_utils\n",
    "\n",
    "from lab_notebooks.utils import SC_TRANSFORMER, TRANSFORMER, DEVICE\n",
    "MODEL_DIR = os.path.join(SRC_DIR, \"models\")\n",
    "sys.path.append(MODEL_DIR)\n",
    "\n",
    "FILT_EDIT_DIST = True"
   ],
   "metadata": {
    "collapsed": false
   }
  },
  {
   "cell_type": "markdown",
   "source": [
    "#### Specify Parameters"
   ],
   "metadata": {
    "collapsed": false
   }
  },
  {
   "cell_type": "code",
   "execution_count": 7,
   "outputs": [],
   "source": [
    "# the sequences in the csv file need to be in a column called Sequences\n",
    "input_path = \"/home/dsi/rgoldner/CDR3_data/thank_you_romi.csv\"\n",
    "output_path = \"/home/dsi/rgoldner/CDR3_data/thank_you_romi_embeddings.csv\"\n",
    "label_column = \"\""
   ],
   "metadata": {
    "collapsed": false
   }
  },
  {
   "cell_type": "code",
   "execution_count": 8,
   "outputs": [],
   "source": [
    "# specify which model to use\n",
    "# CVC - TRANSFORMER\n",
    "# scCVC - SC_TRANSFORMER\n",
    "TRANSFORMER_TO_USE = TRANSFORMER"
   ],
   "metadata": {
    "collapsed": false
   }
  },
  {
   "cell_type": "markdown",
   "source": [
    "#### Load Data"
   ],
   "metadata": {
    "collapsed": false
   }
  },
  {
   "cell_type": "code",
   "execution_count": 9,
   "outputs": [
    {
     "name": "stderr",
     "output_type": "stream",
     "text": [
      "INFO:numexpr.utils:Note: detected 128 virtual cores but NumExpr set to maximum of 64, check \"NUMEXPR_MAX_THREADS\" environment variable.\n",
      "INFO:numexpr.utils:Note: NumExpr detected 128 cores but \"NUMEXPR_MAX_THREADS\" not set, so enforcing safe limit of 8.\n",
      "INFO:numexpr.utils:NumExpr defaulting to 8 threads.\n"
     ]
    }
   ],
   "source": [
    "# load data\n",
    "tcrb_data = pd.read_csv(input_path, index_col=0)\n",
    "# drop duplicates\n",
    "tcrb_data = tcrb_data.drop_duplicates()\n",
    "# drop rows with NaN\n",
    "tcrb_data = tcrb_data.dropna()"
   ],
   "metadata": {
    "collapsed": false
   }
  },
  {
   "cell_type": "code",
   "execution_count": 15,
   "outputs": [],
   "source": [
    "# make tcrb_data a dataframe with Sequences column\n",
    "tcrb_data = pd.DataFrame(tcrb_data)"
   ],
   "metadata": {
    "collapsed": false
   }
  },
  {
   "cell_type": "code",
   "execution_count": 17,
   "outputs": [],
   "source": [
    "# make the sequences a column not an index\n",
    "tcrb_data = tcrb_data.reset_index()"
   ],
   "metadata": {
    "collapsed": false
   }
  },
  {
   "cell_type": "code",
   "execution_count": 19,
   "outputs": [],
   "source": [
    "# rename sequences column if not named \"Sequences\"\n",
    "tcrb_data.rename(columns={'amino_acid': 'Sequences'}, inplace=True)"
   ],
   "metadata": {
    "collapsed": false
   }
  },
  {
   "cell_type": "code",
   "execution_count": 20,
   "outputs": [
    {
     "data": {
      "text/plain": "            Sequences\n0          CASGDYGYTF\n1         CASGGNYGYTF\n2          CASGRETQYF\n3         CASGSGNTIYF\n4         CASGSTDTQYF\n...               ...\n9995     CASSPTAYEQYF\n9996  CASSLGQGANTEAFF\n9997   CASSLVQGNYGYTF\n9998     CASSQGLYEQYF\n9999    CASSRLAGETQYF\n\n[10000 rows x 1 columns]",
      "text/html": "<div>\n<style scoped>\n    .dataframe tbody tr th:only-of-type {\n        vertical-align: middle;\n    }\n\n    .dataframe tbody tr th {\n        vertical-align: top;\n    }\n\n    .dataframe thead th {\n        text-align: right;\n    }\n</style>\n<table border=\"1\" class=\"dataframe\">\n  <thead>\n    <tr style=\"text-align: right;\">\n      <th></th>\n      <th>Sequences</th>\n    </tr>\n  </thead>\n  <tbody>\n    <tr>\n      <th>0</th>\n      <td>CASGDYGYTF</td>\n    </tr>\n    <tr>\n      <th>1</th>\n      <td>CASGGNYGYTF</td>\n    </tr>\n    <tr>\n      <th>2</th>\n      <td>CASGRETQYF</td>\n    </tr>\n    <tr>\n      <th>3</th>\n      <td>CASGSGNTIYF</td>\n    </tr>\n    <tr>\n      <th>4</th>\n      <td>CASGSTDTQYF</td>\n    </tr>\n    <tr>\n      <th>...</th>\n      <td>...</td>\n    </tr>\n    <tr>\n      <th>9995</th>\n      <td>CASSPTAYEQYF</td>\n    </tr>\n    <tr>\n      <th>9996</th>\n      <td>CASSLGQGANTEAFF</td>\n    </tr>\n    <tr>\n      <th>9997</th>\n      <td>CASSLVQGNYGYTF</td>\n    </tr>\n    <tr>\n      <th>9998</th>\n      <td>CASSQGLYEQYF</td>\n    </tr>\n    <tr>\n      <th>9999</th>\n      <td>CASSRLAGETQYF</td>\n    </tr>\n  </tbody>\n</table>\n<p>10000 rows × 1 columns</p>\n</div>"
     },
     "execution_count": 20,
     "metadata": {},
     "output_type": "execute_result"
    }
   ],
   "source": [
    "tcrb_data"
   ],
   "metadata": {
    "collapsed": false
   }
  },
  {
   "cell_type": "markdown",
   "source": [
    "#### Create embeddings"
   ],
   "metadata": {
    "collapsed": false
   }
  },
  {
   "cell_type": "code",
   "execution_count": 21,
   "outputs": [
    {
     "name": "stderr",
     "output_type": "stream",
     "text": [
      "WARNING:matplotlib.font_manager:Matplotlib is building the font cache; this may take a moment.\n",
      "INFO:matplotlib.font_manager:Failed to extract font properties from /usr/share/fonts/google-noto-emoji/NotoColorEmoji.ttf: In FT2Font: Could not set the fontsize (error code 0x17)\n"
     ]
    },
    {
     "data": {
      "text/plain": "  0%|          | 0/79 [00:00<?, ?it/s]",
      "application/vnd.jupyter.widget-view+json": {
       "version_major": 2,
       "version_minor": 0,
       "model_id": "2357f5d76e1a411cac656d6c7edc3cfd"
      }
     },
     "metadata": {},
     "output_type": "display_data"
    },
    {
     "data": {
      "text/plain": "(10000, 768)"
     },
     "execution_count": 21,
     "metadata": {},
     "output_type": "execute_result"
    }
   ],
   "source": [
    "from cvc.embbeding_wrapper import EmbeddingWrapper\n",
    "\n",
    "# Create embeddings\n",
    "embed_wrap = EmbeddingWrapper(TRANSFORMER_TO_USE, DEVICE, tcrb_data, batch_size=128, method=\"mean\", layers=[-1], pbar=True, max_len=120)\n",
    "embed_wrap.embeddings.shape"
   ],
   "metadata": {
    "collapsed": false
   }
  },
  {
   "cell_type": "code",
   "execution_count": 22,
   "outputs": [
    {
     "data": {
      "text/plain": "           0         1         2         3         4         5         6    \\\n0    -0.606887  0.777590 -1.375953  0.248092  0.477837  0.173244  0.154224   \n1    -0.493638  0.866038 -1.423497  0.224215  0.244290 -0.007401  0.320357   \n2    -0.732013  1.017734 -1.346555  0.011262  0.434303  0.013914  0.089565   \n3    -0.631234  1.022021 -1.256504 -0.033699  0.380276  0.108630  0.372201   \n4    -0.795483  1.284921 -1.299754  0.020509  0.419061  0.398061  0.266195   \n...        ...       ...       ...       ...       ...       ...       ...   \n9995 -0.695072  1.037451 -1.023804  0.535071  0.411828 -0.132538  0.442870   \n9996 -0.508786  1.100305 -1.102823  0.249247 -0.129231  0.130378  0.461171   \n9997 -0.238871  0.690715 -1.048388  0.333828  0.248334 -0.000915  0.330514   \n9998 -0.718748  1.025938 -1.370056  0.477898  0.487099 -0.073461  0.355182   \n9999 -0.650338  0.904922 -1.291324  0.211047  0.412565  0.185558  0.122284   \n\n           7         8         9    ...       758       759       760  \\\n0     0.706639  0.127992 -0.238264  ...  0.746878  0.441525 -0.368605   \n1     0.787626  0.196858 -0.284240  ...  1.134784  0.433451 -0.380624   \n2     0.230926  0.060034 -0.165503  ...  1.108108  0.215105 -0.388929   \n3     0.948205 -0.115172  0.013807  ...  1.248619  0.218845 -0.469651   \n4     0.681700  0.089774 -0.049373  ...  1.407869  0.321387 -0.401684   \n...        ...       ...       ...  ...       ...       ...       ...   \n9995  0.208656 -0.305494  0.066448  ...  1.041657  0.819425 -0.628385   \n9996  0.320160 -0.216447 -0.054576  ...  1.032337  0.510869 -0.102000   \n9997  0.246601  0.051285 -0.156323  ...  0.545221  0.505995 -0.300727   \n9998  0.363366 -0.116337 -0.103241  ...  1.020043  0.826583 -0.200132   \n9999 -0.105748 -0.071151  0.012296  ...  1.095541  0.417497 -0.380354   \n\n           761       762       763       764       765       766       767  \n0     1.168895  0.169562  0.919588 -0.199778 -0.095737  0.614277  0.891439  \n1     1.065082  0.148533  1.014662 -0.130221 -0.327940  0.405078  0.890063  \n2     1.007705 -0.024779  1.004402  0.359819 -0.177151  0.863491  0.369633  \n3     0.957724 -0.101322  1.216887  0.300408 -0.123666  0.496636  0.515614  \n4     1.318620 -0.248883  1.082043  0.633624 -0.301196  0.802184  0.687073  \n...        ...       ...       ...       ...       ...       ...       ...  \n9995  0.773898 -0.309156  1.377102  0.240711 -0.156311  1.145874  0.275621  \n9996  0.942525 -0.328476  1.322956  0.435212 -0.072095  0.673242  0.451141  \n9997  0.714871 -0.250641  0.921687 -0.177157  0.046636  0.595020  0.876425  \n9998  1.063207 -0.508420  1.220864  0.067374 -0.096934  1.208098  0.510929  \n9999  0.944028 -0.258507  1.130492  0.385136 -0.123388  0.822783  0.588484  \n\n[10000 rows x 768 columns]",
      "text/html": "<div>\n<style scoped>\n    .dataframe tbody tr th:only-of-type {\n        vertical-align: middle;\n    }\n\n    .dataframe tbody tr th {\n        vertical-align: top;\n    }\n\n    .dataframe thead th {\n        text-align: right;\n    }\n</style>\n<table border=\"1\" class=\"dataframe\">\n  <thead>\n    <tr style=\"text-align: right;\">\n      <th></th>\n      <th>0</th>\n      <th>1</th>\n      <th>2</th>\n      <th>3</th>\n      <th>4</th>\n      <th>5</th>\n      <th>6</th>\n      <th>7</th>\n      <th>8</th>\n      <th>9</th>\n      <th>...</th>\n      <th>758</th>\n      <th>759</th>\n      <th>760</th>\n      <th>761</th>\n      <th>762</th>\n      <th>763</th>\n      <th>764</th>\n      <th>765</th>\n      <th>766</th>\n      <th>767</th>\n    </tr>\n  </thead>\n  <tbody>\n    <tr>\n      <th>0</th>\n      <td>-0.606887</td>\n      <td>0.777590</td>\n      <td>-1.375953</td>\n      <td>0.248092</td>\n      <td>0.477837</td>\n      <td>0.173244</td>\n      <td>0.154224</td>\n      <td>0.706639</td>\n      <td>0.127992</td>\n      <td>-0.238264</td>\n      <td>...</td>\n      <td>0.746878</td>\n      <td>0.441525</td>\n      <td>-0.368605</td>\n      <td>1.168895</td>\n      <td>0.169562</td>\n      <td>0.919588</td>\n      <td>-0.199778</td>\n      <td>-0.095737</td>\n      <td>0.614277</td>\n      <td>0.891439</td>\n    </tr>\n    <tr>\n      <th>1</th>\n      <td>-0.493638</td>\n      <td>0.866038</td>\n      <td>-1.423497</td>\n      <td>0.224215</td>\n      <td>0.244290</td>\n      <td>-0.007401</td>\n      <td>0.320357</td>\n      <td>0.787626</td>\n      <td>0.196858</td>\n      <td>-0.284240</td>\n      <td>...</td>\n      <td>1.134784</td>\n      <td>0.433451</td>\n      <td>-0.380624</td>\n      <td>1.065082</td>\n      <td>0.148533</td>\n      <td>1.014662</td>\n      <td>-0.130221</td>\n      <td>-0.327940</td>\n      <td>0.405078</td>\n      <td>0.890063</td>\n    </tr>\n    <tr>\n      <th>2</th>\n      <td>-0.732013</td>\n      <td>1.017734</td>\n      <td>-1.346555</td>\n      <td>0.011262</td>\n      <td>0.434303</td>\n      <td>0.013914</td>\n      <td>0.089565</td>\n      <td>0.230926</td>\n      <td>0.060034</td>\n      <td>-0.165503</td>\n      <td>...</td>\n      <td>1.108108</td>\n      <td>0.215105</td>\n      <td>-0.388929</td>\n      <td>1.007705</td>\n      <td>-0.024779</td>\n      <td>1.004402</td>\n      <td>0.359819</td>\n      <td>-0.177151</td>\n      <td>0.863491</td>\n      <td>0.369633</td>\n    </tr>\n    <tr>\n      <th>3</th>\n      <td>-0.631234</td>\n      <td>1.022021</td>\n      <td>-1.256504</td>\n      <td>-0.033699</td>\n      <td>0.380276</td>\n      <td>0.108630</td>\n      <td>0.372201</td>\n      <td>0.948205</td>\n      <td>-0.115172</td>\n      <td>0.013807</td>\n      <td>...</td>\n      <td>1.248619</td>\n      <td>0.218845</td>\n      <td>-0.469651</td>\n      <td>0.957724</td>\n      <td>-0.101322</td>\n      <td>1.216887</td>\n      <td>0.300408</td>\n      <td>-0.123666</td>\n      <td>0.496636</td>\n      <td>0.515614</td>\n    </tr>\n    <tr>\n      <th>4</th>\n      <td>-0.795483</td>\n      <td>1.284921</td>\n      <td>-1.299754</td>\n      <td>0.020509</td>\n      <td>0.419061</td>\n      <td>0.398061</td>\n      <td>0.266195</td>\n      <td>0.681700</td>\n      <td>0.089774</td>\n      <td>-0.049373</td>\n      <td>...</td>\n      <td>1.407869</td>\n      <td>0.321387</td>\n      <td>-0.401684</td>\n      <td>1.318620</td>\n      <td>-0.248883</td>\n      <td>1.082043</td>\n      <td>0.633624</td>\n      <td>-0.301196</td>\n      <td>0.802184</td>\n      <td>0.687073</td>\n    </tr>\n    <tr>\n      <th>...</th>\n      <td>...</td>\n      <td>...</td>\n      <td>...</td>\n      <td>...</td>\n      <td>...</td>\n      <td>...</td>\n      <td>...</td>\n      <td>...</td>\n      <td>...</td>\n      <td>...</td>\n      <td>...</td>\n      <td>...</td>\n      <td>...</td>\n      <td>...</td>\n      <td>...</td>\n      <td>...</td>\n      <td>...</td>\n      <td>...</td>\n      <td>...</td>\n      <td>...</td>\n      <td>...</td>\n    </tr>\n    <tr>\n      <th>9995</th>\n      <td>-0.695072</td>\n      <td>1.037451</td>\n      <td>-1.023804</td>\n      <td>0.535071</td>\n      <td>0.411828</td>\n      <td>-0.132538</td>\n      <td>0.442870</td>\n      <td>0.208656</td>\n      <td>-0.305494</td>\n      <td>0.066448</td>\n      <td>...</td>\n      <td>1.041657</td>\n      <td>0.819425</td>\n      <td>-0.628385</td>\n      <td>0.773898</td>\n      <td>-0.309156</td>\n      <td>1.377102</td>\n      <td>0.240711</td>\n      <td>-0.156311</td>\n      <td>1.145874</td>\n      <td>0.275621</td>\n    </tr>\n    <tr>\n      <th>9996</th>\n      <td>-0.508786</td>\n      <td>1.100305</td>\n      <td>-1.102823</td>\n      <td>0.249247</td>\n      <td>-0.129231</td>\n      <td>0.130378</td>\n      <td>0.461171</td>\n      <td>0.320160</td>\n      <td>-0.216447</td>\n      <td>-0.054576</td>\n      <td>...</td>\n      <td>1.032337</td>\n      <td>0.510869</td>\n      <td>-0.102000</td>\n      <td>0.942525</td>\n      <td>-0.328476</td>\n      <td>1.322956</td>\n      <td>0.435212</td>\n      <td>-0.072095</td>\n      <td>0.673242</td>\n      <td>0.451141</td>\n    </tr>\n    <tr>\n      <th>9997</th>\n      <td>-0.238871</td>\n      <td>0.690715</td>\n      <td>-1.048388</td>\n      <td>0.333828</td>\n      <td>0.248334</td>\n      <td>-0.000915</td>\n      <td>0.330514</td>\n      <td>0.246601</td>\n      <td>0.051285</td>\n      <td>-0.156323</td>\n      <td>...</td>\n      <td>0.545221</td>\n      <td>0.505995</td>\n      <td>-0.300727</td>\n      <td>0.714871</td>\n      <td>-0.250641</td>\n      <td>0.921687</td>\n      <td>-0.177157</td>\n      <td>0.046636</td>\n      <td>0.595020</td>\n      <td>0.876425</td>\n    </tr>\n    <tr>\n      <th>9998</th>\n      <td>-0.718748</td>\n      <td>1.025938</td>\n      <td>-1.370056</td>\n      <td>0.477898</td>\n      <td>0.487099</td>\n      <td>-0.073461</td>\n      <td>0.355182</td>\n      <td>0.363366</td>\n      <td>-0.116337</td>\n      <td>-0.103241</td>\n      <td>...</td>\n      <td>1.020043</td>\n      <td>0.826583</td>\n      <td>-0.200132</td>\n      <td>1.063207</td>\n      <td>-0.508420</td>\n      <td>1.220864</td>\n      <td>0.067374</td>\n      <td>-0.096934</td>\n      <td>1.208098</td>\n      <td>0.510929</td>\n    </tr>\n    <tr>\n      <th>9999</th>\n      <td>-0.650338</td>\n      <td>0.904922</td>\n      <td>-1.291324</td>\n      <td>0.211047</td>\n      <td>0.412565</td>\n      <td>0.185558</td>\n      <td>0.122284</td>\n      <td>-0.105748</td>\n      <td>-0.071151</td>\n      <td>0.012296</td>\n      <td>...</td>\n      <td>1.095541</td>\n      <td>0.417497</td>\n      <td>-0.380354</td>\n      <td>0.944028</td>\n      <td>-0.258507</td>\n      <td>1.130492</td>\n      <td>0.385136</td>\n      <td>-0.123388</td>\n      <td>0.822783</td>\n      <td>0.588484</td>\n    </tr>\n  </tbody>\n</table>\n<p>10000 rows × 768 columns</p>\n</div>"
     },
     "execution_count": 22,
     "metadata": {},
     "output_type": "execute_result"
    }
   ],
   "source": [
    "tcrb_embeddings_df = pd.DataFrame(embed_wrap.embeddings)\n",
    "tcrb_embeddings_df"
   ],
   "metadata": {
    "collapsed": false
   }
  },
  {
   "cell_type": "code",
   "execution_count": 15,
   "outputs": [
    {
     "name": "stderr",
     "output_type": "stream",
     "text": [
      "/opt/conda/envs/tcrbert/lib/python3.9/site-packages/anndata/_core/anndata.py:119: ImplicitModificationWarning: Transforming to str index.\n",
      "  warnings.warn(\"Transforming to str index.\", ImplicitModificationWarning)\n"
     ]
    }
   ],
   "source": [
    "# create anndata object\n",
    "tcrb_embeddings_adata = embed_wrap.create_anndata()\n",
    "\n",
    "# add public/private label to dataframe\n",
    "df_embeddings_with_label = tcrb_embeddings_df\n",
    "df_embeddings_with_label['Sequences']=list(tcrb_embeddings_adata.obs['Sequences'])\n",
    "df_embeddings_with_label[label_column]=list(tcrb_embeddings_adata.obs[label_column])"
   ],
   "metadata": {
    "collapsed": false
   }
  },
  {
   "cell_type": "code",
   "execution_count": 16,
   "outputs": [
    {
     "data": {
      "text/plain": "             0         1         2         3         4         5         6  \\\n0    -0.149587 -0.197047 -0.606274  0.246161  0.146642 -0.208196  0.247288   \n1    -0.003837  0.004939 -0.305185 -0.467737  0.554620  0.526504  0.037872   \n2     0.027054  0.238266  0.138490 -0.477724  0.421007  0.106373 -0.682291   \n3    -0.149578  0.100374 -0.122322 -0.478098  0.454484  0.019130  0.048994   \n4    -0.540540  0.291595 -0.353379 -0.261123  0.426946  0.357447 -0.488219   \n...        ...       ...       ...       ...       ...       ...       ...   \n5011 -0.329775  0.793744 -1.056300  0.181084  0.043187 -0.084797  0.497528   \n5012 -0.100326  0.304981  0.190182 -0.059698  0.107292  0.121101 -0.251405   \n5013 -0.056023 -0.094397 -0.433103 -0.062313  0.069507 -0.040174  0.057963   \n5014 -0.422617  0.676036 -1.092209  0.034845  0.449366  0.100408  0.365332   \n5015 -0.679665  0.381582 -0.096865 -0.755159  0.349162  0.068600 -0.496824   \n\n             7         8         9  ...       760       761       762  \\\n0    -0.079729  0.198015 -0.245093  ... -0.638298  0.011018 -0.319213   \n1    -0.058776  0.078017 -0.378901  ...  0.325271 -0.620283 -0.451306   \n2    -0.285417  0.483916 -0.346199  ...  0.507948 -0.131854  0.230915   \n3     0.235329  0.132402 -0.505863  ...  0.282709  0.410364  0.008110   \n4    -0.435053  0.388957 -0.267924  ...  0.328469 -0.103942  0.323352   \n...        ...       ...       ...  ...       ...       ...       ...   \n5011  0.468565  0.060517  0.038454  ... -0.269269 -0.119622 -0.516974   \n5012 -0.306332  0.125169 -0.237075  ... -0.172579 -0.399773 -0.378466   \n5013 -0.075291  0.027573 -0.167322  ... -0.157909  0.064306 -0.047353   \n5014  0.275192  0.020950  0.030260  ... -0.000810 -0.096166 -0.774795   \n5015 -0.169834  0.225958 -0.460315  ... -0.035289 -0.299447 -0.159665   \n\n           763       764       765       766       767           Sequences  \\\n0     0.780746 -0.412318  0.522235  0.514297  0.207887      CASSVAGLLYEQYF   \n1    -0.204477 -0.042363  0.488556  0.090419  0.102915  CASSHPPGADLGGQPQHF   \n2     0.139384 -0.132491  0.416187  0.232041 -0.580679    CAWSVPPVQGDRTQHF   \n3    -0.087051 -0.256943  0.420582 -0.317372  0.073733     CSARDLDSLTNGYTF   \n4     0.735837  0.272375  0.473237  0.894415 -0.243902       CAWSGEPSQAQYF   \n...        ...       ...       ...       ...       ...                 ...   \n5011  0.407369  0.187545  0.344213  0.109828  0.269770       CASTGENNSPLHF   \n5012  0.207969 -0.128755  0.727024  0.299680  0.027128  CASSVDWSGPGNTGELFF   \n5013  0.050179 -0.237840  0.765852 -0.496809  0.229118     CSARALAGGTNEQFF   \n5014  0.810294 -0.045002  0.009765  0.297485  0.518775      CASSFQGGDQPQHF   \n5015  0.281305 -0.450529  0.594555  0.529679 -0.038543     CASSQDMGSPETQYF   \n\n          MAIT_cell  \n0         MAIT_cell  \n1         MAIT_cell  \n2         MAIT_cell  \n3         MAIT_cell  \n4         MAIT_cell  \n...             ...  \n5011  non-MAIT_cell  \n5012  non-MAIT_cell  \n5013  non-MAIT_cell  \n5014  non-MAIT_cell  \n5015  non-MAIT_cell  \n\n[5016 rows x 770 columns]",
      "text/html": "<div>\n<style scoped>\n    .dataframe tbody tr th:only-of-type {\n        vertical-align: middle;\n    }\n\n    .dataframe tbody tr th {\n        vertical-align: top;\n    }\n\n    .dataframe thead th {\n        text-align: right;\n    }\n</style>\n<table border=\"1\" class=\"dataframe\">\n  <thead>\n    <tr style=\"text-align: right;\">\n      <th></th>\n      <th>0</th>\n      <th>1</th>\n      <th>2</th>\n      <th>3</th>\n      <th>4</th>\n      <th>5</th>\n      <th>6</th>\n      <th>7</th>\n      <th>8</th>\n      <th>9</th>\n      <th>...</th>\n      <th>760</th>\n      <th>761</th>\n      <th>762</th>\n      <th>763</th>\n      <th>764</th>\n      <th>765</th>\n      <th>766</th>\n      <th>767</th>\n      <th>Sequences</th>\n      <th>MAIT_cell</th>\n    </tr>\n  </thead>\n  <tbody>\n    <tr>\n      <th>0</th>\n      <td>-0.149587</td>\n      <td>-0.197047</td>\n      <td>-0.606274</td>\n      <td>0.246161</td>\n      <td>0.146642</td>\n      <td>-0.208196</td>\n      <td>0.247288</td>\n      <td>-0.079729</td>\n      <td>0.198015</td>\n      <td>-0.245093</td>\n      <td>...</td>\n      <td>-0.638298</td>\n      <td>0.011018</td>\n      <td>-0.319213</td>\n      <td>0.780746</td>\n      <td>-0.412318</td>\n      <td>0.522235</td>\n      <td>0.514297</td>\n      <td>0.207887</td>\n      <td>CASSVAGLLYEQYF</td>\n      <td>MAIT_cell</td>\n    </tr>\n    <tr>\n      <th>1</th>\n      <td>-0.003837</td>\n      <td>0.004939</td>\n      <td>-0.305185</td>\n      <td>-0.467737</td>\n      <td>0.554620</td>\n      <td>0.526504</td>\n      <td>0.037872</td>\n      <td>-0.058776</td>\n      <td>0.078017</td>\n      <td>-0.378901</td>\n      <td>...</td>\n      <td>0.325271</td>\n      <td>-0.620283</td>\n      <td>-0.451306</td>\n      <td>-0.204477</td>\n      <td>-0.042363</td>\n      <td>0.488556</td>\n      <td>0.090419</td>\n      <td>0.102915</td>\n      <td>CASSHPPGADLGGQPQHF</td>\n      <td>MAIT_cell</td>\n    </tr>\n    <tr>\n      <th>2</th>\n      <td>0.027054</td>\n      <td>0.238266</td>\n      <td>0.138490</td>\n      <td>-0.477724</td>\n      <td>0.421007</td>\n      <td>0.106373</td>\n      <td>-0.682291</td>\n      <td>-0.285417</td>\n      <td>0.483916</td>\n      <td>-0.346199</td>\n      <td>...</td>\n      <td>0.507948</td>\n      <td>-0.131854</td>\n      <td>0.230915</td>\n      <td>0.139384</td>\n      <td>-0.132491</td>\n      <td>0.416187</td>\n      <td>0.232041</td>\n      <td>-0.580679</td>\n      <td>CAWSVPPVQGDRTQHF</td>\n      <td>MAIT_cell</td>\n    </tr>\n    <tr>\n      <th>3</th>\n      <td>-0.149578</td>\n      <td>0.100374</td>\n      <td>-0.122322</td>\n      <td>-0.478098</td>\n      <td>0.454484</td>\n      <td>0.019130</td>\n      <td>0.048994</td>\n      <td>0.235329</td>\n      <td>0.132402</td>\n      <td>-0.505863</td>\n      <td>...</td>\n      <td>0.282709</td>\n      <td>0.410364</td>\n      <td>0.008110</td>\n      <td>-0.087051</td>\n      <td>-0.256943</td>\n      <td>0.420582</td>\n      <td>-0.317372</td>\n      <td>0.073733</td>\n      <td>CSARDLDSLTNGYTF</td>\n      <td>MAIT_cell</td>\n    </tr>\n    <tr>\n      <th>4</th>\n      <td>-0.540540</td>\n      <td>0.291595</td>\n      <td>-0.353379</td>\n      <td>-0.261123</td>\n      <td>0.426946</td>\n      <td>0.357447</td>\n      <td>-0.488219</td>\n      <td>-0.435053</td>\n      <td>0.388957</td>\n      <td>-0.267924</td>\n      <td>...</td>\n      <td>0.328469</td>\n      <td>-0.103942</td>\n      <td>0.323352</td>\n      <td>0.735837</td>\n      <td>0.272375</td>\n      <td>0.473237</td>\n      <td>0.894415</td>\n      <td>-0.243902</td>\n      <td>CAWSGEPSQAQYF</td>\n      <td>MAIT_cell</td>\n    </tr>\n    <tr>\n      <th>...</th>\n      <td>...</td>\n      <td>...</td>\n      <td>...</td>\n      <td>...</td>\n      <td>...</td>\n      <td>...</td>\n      <td>...</td>\n      <td>...</td>\n      <td>...</td>\n      <td>...</td>\n      <td>...</td>\n      <td>...</td>\n      <td>...</td>\n      <td>...</td>\n      <td>...</td>\n      <td>...</td>\n      <td>...</td>\n      <td>...</td>\n      <td>...</td>\n      <td>...</td>\n      <td>...</td>\n    </tr>\n    <tr>\n      <th>5011</th>\n      <td>-0.329775</td>\n      <td>0.793744</td>\n      <td>-1.056300</td>\n      <td>0.181084</td>\n      <td>0.043187</td>\n      <td>-0.084797</td>\n      <td>0.497528</td>\n      <td>0.468565</td>\n      <td>0.060517</td>\n      <td>0.038454</td>\n      <td>...</td>\n      <td>-0.269269</td>\n      <td>-0.119622</td>\n      <td>-0.516974</td>\n      <td>0.407369</td>\n      <td>0.187545</td>\n      <td>0.344213</td>\n      <td>0.109828</td>\n      <td>0.269770</td>\n      <td>CASTGENNSPLHF</td>\n      <td>non-MAIT_cell</td>\n    </tr>\n    <tr>\n      <th>5012</th>\n      <td>-0.100326</td>\n      <td>0.304981</td>\n      <td>0.190182</td>\n      <td>-0.059698</td>\n      <td>0.107292</td>\n      <td>0.121101</td>\n      <td>-0.251405</td>\n      <td>-0.306332</td>\n      <td>0.125169</td>\n      <td>-0.237075</td>\n      <td>...</td>\n      <td>-0.172579</td>\n      <td>-0.399773</td>\n      <td>-0.378466</td>\n      <td>0.207969</td>\n      <td>-0.128755</td>\n      <td>0.727024</td>\n      <td>0.299680</td>\n      <td>0.027128</td>\n      <td>CASSVDWSGPGNTGELFF</td>\n      <td>non-MAIT_cell</td>\n    </tr>\n    <tr>\n      <th>5013</th>\n      <td>-0.056023</td>\n      <td>-0.094397</td>\n      <td>-0.433103</td>\n      <td>-0.062313</td>\n      <td>0.069507</td>\n      <td>-0.040174</td>\n      <td>0.057963</td>\n      <td>-0.075291</td>\n      <td>0.027573</td>\n      <td>-0.167322</td>\n      <td>...</td>\n      <td>-0.157909</td>\n      <td>0.064306</td>\n      <td>-0.047353</td>\n      <td>0.050179</td>\n      <td>-0.237840</td>\n      <td>0.765852</td>\n      <td>-0.496809</td>\n      <td>0.229118</td>\n      <td>CSARALAGGTNEQFF</td>\n      <td>non-MAIT_cell</td>\n    </tr>\n    <tr>\n      <th>5014</th>\n      <td>-0.422617</td>\n      <td>0.676036</td>\n      <td>-1.092209</td>\n      <td>0.034845</td>\n      <td>0.449366</td>\n      <td>0.100408</td>\n      <td>0.365332</td>\n      <td>0.275192</td>\n      <td>0.020950</td>\n      <td>0.030260</td>\n      <td>...</td>\n      <td>-0.000810</td>\n      <td>-0.096166</td>\n      <td>-0.774795</td>\n      <td>0.810294</td>\n      <td>-0.045002</td>\n      <td>0.009765</td>\n      <td>0.297485</td>\n      <td>0.518775</td>\n      <td>CASSFQGGDQPQHF</td>\n      <td>non-MAIT_cell</td>\n    </tr>\n    <tr>\n      <th>5015</th>\n      <td>-0.679665</td>\n      <td>0.381582</td>\n      <td>-0.096865</td>\n      <td>-0.755159</td>\n      <td>0.349162</td>\n      <td>0.068600</td>\n      <td>-0.496824</td>\n      <td>-0.169834</td>\n      <td>0.225958</td>\n      <td>-0.460315</td>\n      <td>...</td>\n      <td>-0.035289</td>\n      <td>-0.299447</td>\n      <td>-0.159665</td>\n      <td>0.281305</td>\n      <td>-0.450529</td>\n      <td>0.594555</td>\n      <td>0.529679</td>\n      <td>-0.038543</td>\n      <td>CASSQDMGSPETQYF</td>\n      <td>non-MAIT_cell</td>\n    </tr>\n  </tbody>\n</table>\n<p>5016 rows × 770 columns</p>\n</div>"
     },
     "execution_count": 16,
     "metadata": {},
     "output_type": "execute_result"
    }
   ],
   "source": [
    "df_embeddings_with_label"
   ],
   "metadata": {
    "collapsed": false
   }
  },
  {
   "cell_type": "code",
   "execution_count": 23,
   "outputs": [],
   "source": [
    "# output embeddings to csv\n",
    "tcrb_embeddings_df.to_csv(output_path, index=False)\n",
    "# save anndata object\n",
    "#tcrb_embeddings_adata.write_h5ad(output_path.replace(\".csv\", \".h5ad\"))"
   ],
   "metadata": {
    "collapsed": false
   }
  },
  {
   "cell_type": "code",
   "execution_count": null,
   "outputs": [],
   "source": [],
   "metadata": {
    "collapsed": false
   }
  }
 ],
 "metadata": {
  "deepnote": {},
  "deepnote_execution_queue": [],
  "deepnote_notebook_id": "cef408d8-9130-407c-bfc8-1126d6b70d18",
  "kernelspec": {
   "display_name": "Python 3",
   "language": "python",
   "name": "python3"
  },
  "language_info": {
   "codemirror_mode": {
    "name": "ipython",
    "version": 3
   },
   "file_extension": ".py",
   "mimetype": "text/x-python",
   "name": "python",
   "nbconvert_exporter": "python",
   "pygments_lexer": "ipython3",
   "version": "3.9.2"
  }
 },
 "nbformat": 4,
 "nbformat_minor": 5
}
